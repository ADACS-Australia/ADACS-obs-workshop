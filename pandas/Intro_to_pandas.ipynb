{
 "cells": [
  {
   "cell_type": "markdown",
   "metadata": {},
   "source": [
    "# ADACS introductory data analysis workshop\n",
    "\n",
    "This lesson is adapted from the [Data Carpentry Ecology lesson](http://www.datacarpentry.org/python-ecology-lesson/)\n",
    "- make sure to open this ipython notebook in the same directory as the data used in this notebook\n",
    "\n",
    "We'll be using an etherpad to share solutions to challenges, ask questions and chat:\n",
    "- etherpad let's you collaborate simultaniously on the same document\n",
    "- everyone has their own identificating colour\n",
    "- there is also a chat function where you can talk and ask questions if you like\n",
    "Your isntructor will give you the link to the etherpad on the day of the course.\n",
    "After finishing the course and updated notebook with the answers will be made available in the github repo.\n",
    "\n",
    "\n",
    "## Introduction to Python and data analysis using pandas\n",
    "\n",
    "Python is a high-level, interpreted programming language. This means the code is easy to read for humans and there is no need for us to compile it and in many cases we do not have to think too much about the underlying system fro e.g. memory usage.\n",
    "\n",
    "As a consequence, we can use it in two ways:\n",
    "- Using the interpreter as an \"advanced calculator\" in interactive mode:\n",
    "- Executing programs/scripts saved as a text file, usually with *.py extension:\n",
    "\n",
    "\n",
    "# Recap: quick intro to python\n",
    "\n",
    "### Data types\n",
    "How information is stored in a DataFrame or a python object affects what we can do with it and the outputs of calculations as well. There are two main types of data that we're explore in this lesson: numeric and character types.\n",
    "\n",
    "\n",
    "**Numeric Data Types**\n",
    "\n",
    "- integer\n",
    "- float\n",
    "\n",
    "**Character Data Types**\n",
    "\n",
    "- strings (a word, a sentence, or several sentences)\n",
    "- strings that contain numbers can not be used for mathematical operations!\n",
    "\n",
    "**Lists** \n",
    "\n",
    "are a common data structure to hold an ordered sequence of\n",
    "elements. Each element can be accessed by an index.  Note that Python\n",
    "indexes start with 0 instead of 1:\n",
    "\n",
    "**Tuple**  \n",
    "\n",
    "Similar to a list in that it's an ordered sequence of elements. However,\n",
    "tuples can not be changed once created (they are \"immutable\"). Tuples are\n",
    "created by placing comma-separated values inside parentheses `()`.\n",
    "\n",
    "**Dictionary** \n",
    "\n",
    "A container that holds pairs of objects - keys and values.\n",
    "\n",
    "Dictionaries work a lot like lists - except that you index them with *keys*. \n",
    "You can think about a key as a name for or a unique identifier for a set of values\n",
    "in the dictionary. Keys can only have particular types - they have to be \n",
    "\"hashable\". Strings and numeric types are acceptable, but lists aren't.\n",
    "\n",
    "\n",
    "### Operators\n",
    "We can perform mathematical calculations in Python using the basic operators\n",
    " `+, -, /, *, %`:\n",
    " \n",
    "** In python 2 if we divide one integer by another, we get an integer! **\n",
    "The result in python 3 is different where we get a float.\n",
    "Remember to convert your integers to floats when you want floating point precision for divisions!\n",
    "\n",
    "\n",
    "We can also use comparison and logic operators:\n",
    "`<, >, ==, !=, <=, >=` and statements of identity such as\n",
    "`and, or, not`. The data type returned by this is \n",
    "called a _boolean_.\n",
    " \n",
    "### Scripting\n",
    "\n",
    " **Comments** start with #\n",
    " \n",
    " **Methods** are a way to interact with an object (a list, for example). We can invoke \n",
    "a method using the dot `.` followed by the method name and a list of arguments in parentheses. \n",
    "To find out what methods are available for an object, we can use the built-in `help` command:\n",
    "\n",
    "\n",
    "A **Library** in Python contains a set of tools (called functions) that perform\n",
    "tasks on our data. \n",
    "\n",
    "Python doesn't load all of the libraries available to it by default. We have to\n",
    "add an `import` statement to our code in order to use library functions. To import\n",
    "a library, we use the syntax `import libraryName`. If we want to give the\n",
    "library a nickname to shorten the command, we can add `as nickNameHere`. \n",
    "\n",
    "You only need to load a library once during your session. You can load the library when needed\n",
    "or you can load all necessary libraries at the beginning of your script. \n",
    "This is good practice, especially for the readability of your code"
   ]
  },
  {
   "cell_type": "markdown",
   "metadata": {},
   "source": [
    "# Working With Pandas DataFrames in Python\n",
    "\n",
    "## Starting in the same spot\n",
    "\n",
    "To help the lesson run smoothly, let's ensure everyone is in the same directory.\n",
    "This should help us avoid path and file name issues. At this time please\n",
    "navigate to the workshop directory. If you working in IPython Notebook be sure\n",
    "that you start your notebook in the workshop directory.\n",
    "\n",
    "A quick aside that there are Python libraries like [OS\n",
    "Library](https://docs.python.org/3/library/os.html) that can work with our\n",
    "directory structure, however, that is not our focus today.\n",
    "\n",
    "If you need to change your directory ```import os``` and use ```os.chdir```\n",
    "\n",
    "Or you can use **%** to access the command line, e.g. ```% cd folder_name```\n",
    "\n",
    "\n",
    "## Our Data \n",
    "\n",
    "For this lesson, we will be using [Galaxy Zoo DR1 data](https://www.google.com/search?q=galaxy+zoo&ie=utf-8&oe=utf-8&client=firefox-b-ab). Galaxy Zoo is described in Lintott et al. 2008, MNRAS, 389, 1179 and the data release is described in Lintott et al. 2011, 410, 166.\n",
    "\n",
    "The table we use is an adapted version of Table 2, listing classifications of galaxies which have spectra included in SDSS Data Release 7. The debiased fraction of the votes in elliptical and spiral categories is given, along with flags identifying systems classified as spiral, elliptical or uncertain.\n",
    "\n",
    "\n",
    "| Column           | Description                             |\n",
    "|------------------|-----------------------------------------|\n",
    "| id               | SDSS ID, objects taken from DR7         |\n",
    "| ra               | Right Ascension  (HMS)                  |\n",
    "| dec              | Declination (DMS)                       |\n",
    "| nvote            | number of votes                         |\n",
    "| p_e              | debiased vote fraction Ellipticals      |\n",
    "| p_s              | debiased vote fraction all Spirals      |\n",
    "| type             | whether final vote is E, S or U         |\n",
    "| class            | spiral or elliptical class, eg E0 or CW |\n",
    "\n",
    "Galaxies flagged as ‘elliptical’ or ‘spiral’ require 80 per cent of the vote in that category after the debiasing procedure has been applied; all other galaxies are flagged ‘uncertain’.\n",
    "Note, the elliptical class, E0 to E7, is randomly assigned. The spiral class is based on the highest vote fraction of the spiral classes in the Galaxy Zoo DR 1 Table 2 data.\n",
    "\n",
    "\n",
    "## Pandas in Python\n",
    "\n",
    "One of the best options for working with tabular data in Python is to use the\n",
    "[Python Data Analysis Library](http://pandas.pydata.org/) (a.k.a. Pandas). The\n",
    "Pandas library provides data structures, produces high quality plots with\n",
    "[matplotlib](http://matplotlib.org/) and integrates nicely with other libraries\n",
    "that use [NumPy](http://www.numpy.org/) (which is another Python library) arrays.\n",
    "\n",
    "Each time we call a function that's in a library, we use the syntax\n",
    "`LibraryName.FunctionName`. Adding the library name with a `.` before the\n",
    "function name tells Python where to find the function. In the example above, we\n",
    "have imported Pandas as `pd`. This means we don't have to type out `pandas` each\n",
    "time we call a Pandas function."
   ]
  },
  {
   "cell_type": "code",
   "execution_count": 1,
   "metadata": {
    "collapsed": false
   },
   "outputs": [
    {
     "name": "stdout",
     "output_type": "stream",
     "text": [
      "/Users/268964i/Documents/REPOSITORIES/ADACS/Pawsey_Roadshow_MAR2017\n"
     ]
    }
   ],
   "source": [
    "#if you need to change your directory\n",
    "import os\n",
    "print(os.getcwd())\n",
    "os.chdir(\"data/\") #make sure you enter the correct fille path"
   ]
  },
  {
   "cell_type": "code",
   "execution_count": 2,
   "metadata": {
    "collapsed": false
   },
   "outputs": [
    {
     "data": {
      "text/plain": [
       "u'0.19.2'"
      ]
     },
     "execution_count": 2,
     "metadata": {},
     "output_type": "execute_result"
    }
   ],
   "source": [
    "import pandas as pd\n",
    "#check your version, we need v0.19 or higher\n",
    "pd.__version__"
   ]
  },
  {
   "cell_type": "markdown",
   "metadata": {},
   "source": [
    "# Reading CSV Data Using Pandas\n",
    "\n",
    "We will begin by locating and reading our survey data which are in CSV format.\n",
    "We can use Pandas' `read_csv` function to pull the file directly into a\n",
    "[DataFrame](http://pandas.pydata.org/pandas-docs/stable/dsintro.html#dataframe).\n",
    "\n",
    "## So What's a DataFrame?\n",
    "\n",
    "A DataFrame is a 2-dimensional data structure that can store data of different\n",
    "types (including characters, integers, floating point values, factors and more)\n",
    "in columns. It is similar to a spreadsheet or an SQL table or the `data.frame` in\n",
    "R. A DataFrame always has an index (0-based). An index refers to the position of \n",
    "an element in the data structure.\n"
   ]
  },
  {
   "cell_type": "code",
   "execution_count": null,
   "metadata": {
    "collapsed": false
   },
   "outputs": [],
   "source": [
    "# note that pd.read_csv is used because we imported pandas as pd\n",
    "pd.read_csv('GalaxyZoo1.csv')"
   ]
  },
  {
   "cell_type": "markdown",
   "metadata": {},
   "source": [
    "We can see that there were 667944 rows parsed. Each row has 9\n",
    "columns. The first column is the index of the DataFrame. The index is used to\n",
    "identify the position of the data, but it is not an actual column of the DataFrame. \n",
    "It looks like  the `read_csv` function in Pandas  read our file properly. However, \n",
    "we haven't saved any data to memory so we can work with it.We need to assign the \n",
    "DataFrame to a variable. Remember that a variable is a name for a value, such as `x`, \n",
    "or  `data`. We can create a new  object with a variable name by assigning a value to it using `=`.\n",
    "\n",
    "Let's call the imported survey data `gal_df`:"
   ]
  },
  {
   "cell_type": "code",
   "execution_count": 3,
   "metadata": {
    "collapsed": false
   },
   "outputs": [],
   "source": [
    "gal_df=pd.read_csv('GalaxyZoo1.csv')"
   ]
  },
  {
   "cell_type": "code",
   "execution_count": null,
   "metadata": {
    "collapsed": true
   },
   "outputs": [],
   "source": []
  },
  {
   "cell_type": "code",
   "execution_count": 18,
   "metadata": {
    "collapsed": false
   },
   "outputs": [
    {
     "data": {
      "text/html": [
       "<div>\n",
       "<table border=\"1\" class=\"dataframe\">\n",
       "  <thead>\n",
       "    <tr style=\"text-align: right;\">\n",
       "      <th></th>\n",
       "      <th>id</th>\n",
       "      <th>ra</th>\n",
       "      <th>dec</th>\n",
       "      <th>nvote</th>\n",
       "      <th>p_e</th>\n",
       "      <th>p_s</th>\n",
       "      <th>type</th>\n",
       "      <th>class</th>\n",
       "    </tr>\n",
       "  </thead>\n",
       "  <tbody>\n",
       "    <tr>\n",
       "      <th>3</th>\n",
       "      <td>5.877308e+17</td>\n",
       "      <td>00:00:01.38</td>\n",
       "      <td>+15:30:35.3</td>\n",
       "      <td>52</td>\n",
       "      <td>0.885</td>\n",
       "      <td>0.077</td>\n",
       "      <td>E</td>\n",
       "      <td>E1</td>\n",
       "    </tr>\n",
       "    <tr>\n",
       "      <th>15</th>\n",
       "      <td>5.877312e+17</td>\n",
       "      <td>00:00:04.12</td>\n",
       "      <td>+00:45:07.9</td>\n",
       "      <td>30</td>\n",
       "      <td>0.913</td>\n",
       "      <td>0.054</td>\n",
       "      <td>E</td>\n",
       "      <td>E4</td>\n",
       "    </tr>\n",
       "    <tr>\n",
       "      <th>25</th>\n",
       "      <td>5.877272e+17</td>\n",
       "      <td>00:00:06.70</td>\n",
       "      <td>+14:19:58.5</td>\n",
       "      <td>55</td>\n",
       "      <td>0.818</td>\n",
       "      <td>0.073</td>\n",
       "      <td>E</td>\n",
       "      <td>E0</td>\n",
       "    </tr>\n",
       "    <tr>\n",
       "      <th>30</th>\n",
       "      <td>5.877308e+17</td>\n",
       "      <td>00:00:07.62</td>\n",
       "      <td>+15:50:03.2</td>\n",
       "      <td>31</td>\n",
       "      <td>1.000</td>\n",
       "      <td>0.000</td>\n",
       "      <td>E</td>\n",
       "      <td>E2</td>\n",
       "    </tr>\n",
       "    <tr>\n",
       "      <th>51</th>\n",
       "      <td>5.877272e+17</td>\n",
       "      <td>00:00:14.09</td>\n",
       "      <td>-10:28:45.9</td>\n",
       "      <td>67</td>\n",
       "      <td>0.927</td>\n",
       "      <td>0.028</td>\n",
       "      <td>E</td>\n",
       "      <td>E3</td>\n",
       "    </tr>\n",
       "    <tr>\n",
       "      <th>53</th>\n",
       "      <td>5.877272e+17</td>\n",
       "      <td>00:00:14.60</td>\n",
       "      <td>+13:55:32.3</td>\n",
       "      <td>32</td>\n",
       "      <td>0.716</td>\n",
       "      <td>0.180</td>\n",
       "      <td>E</td>\n",
       "      <td>E1</td>\n",
       "    </tr>\n",
       "    <tr>\n",
       "      <th>61</th>\n",
       "      <td>5.877308e+17</td>\n",
       "      <td>00:00:17.63</td>\n",
       "      <td>+15:25:53.0</td>\n",
       "      <td>28</td>\n",
       "      <td>0.819</td>\n",
       "      <td>0.074</td>\n",
       "      <td>E</td>\n",
       "      <td>E6</td>\n",
       "    </tr>\n",
       "    <tr>\n",
       "      <th>86</th>\n",
       "      <td>5.877308e+17</td>\n",
       "      <td>00:00:29.30</td>\n",
       "      <td>+14:37:31.4</td>\n",
       "      <td>30</td>\n",
       "      <td>0.761</td>\n",
       "      <td>0.204</td>\n",
       "      <td>E</td>\n",
       "      <td>E5</td>\n",
       "    </tr>\n",
       "    <tr>\n",
       "      <th>101</th>\n",
       "      <td>5.877272e+17</td>\n",
       "      <td>00:00:36.82</td>\n",
       "      <td>+14:27:42.6</td>\n",
       "      <td>38</td>\n",
       "      <td>0.859</td>\n",
       "      <td>0.114</td>\n",
       "      <td>E</td>\n",
       "      <td>E1</td>\n",
       "    </tr>\n",
       "    <tr>\n",
       "      <th>109</th>\n",
       "      <td>5.877272e+17</td>\n",
       "      <td>00:00:39.86</td>\n",
       "      <td>-11:09:27.7</td>\n",
       "      <td>29</td>\n",
       "      <td>0.931</td>\n",
       "      <td>0.034</td>\n",
       "      <td>E</td>\n",
       "      <td>E5</td>\n",
       "    </tr>\n",
       "    <tr>\n",
       "      <th>111</th>\n",
       "      <td>5.877308e+17</td>\n",
       "      <td>00:00:40.03</td>\n",
       "      <td>+15:56:51.8</td>\n",
       "      <td>33</td>\n",
       "      <td>0.909</td>\n",
       "      <td>0.030</td>\n",
       "      <td>E</td>\n",
       "      <td>E2</td>\n",
       "    </tr>\n",
       "    <tr>\n",
       "      <th>112</th>\n",
       "      <td>5.877308e+17</td>\n",
       "      <td>00:00:40.04</td>\n",
       "      <td>+14:33:07.7</td>\n",
       "      <td>53</td>\n",
       "      <td>0.925</td>\n",
       "      <td>0.019</td>\n",
       "      <td>E</td>\n",
       "      <td>E7</td>\n",
       "    </tr>\n",
       "    <tr>\n",
       "      <th>119</th>\n",
       "      <td>5.877272e+17</td>\n",
       "      <td>00:00:41.28</td>\n",
       "      <td>+14:29:25.4</td>\n",
       "      <td>32</td>\n",
       "      <td>0.811</td>\n",
       "      <td>0.189</td>\n",
       "      <td>E</td>\n",
       "      <td>E0</td>\n",
       "    </tr>\n",
       "    <tr>\n",
       "      <th>125</th>\n",
       "      <td>5.877312e+17</td>\n",
       "      <td>00:00:44.15</td>\n",
       "      <td>+00:40:22.8</td>\n",
       "      <td>27</td>\n",
       "      <td>0.923</td>\n",
       "      <td>0.077</td>\n",
       "      <td>E</td>\n",
       "      <td>E6</td>\n",
       "    </tr>\n",
       "    <tr>\n",
       "      <th>140</th>\n",
       "      <td>5.877308e+17</td>\n",
       "      <td>00:00:49.53</td>\n",
       "      <td>+14:58:27.6</td>\n",
       "      <td>31</td>\n",
       "      <td>0.812</td>\n",
       "      <td>0.155</td>\n",
       "      <td>E</td>\n",
       "      <td>E0</td>\n",
       "    </tr>\n",
       "    <tr>\n",
       "      <th>141</th>\n",
       "      <td>5.877272e+17</td>\n",
       "      <td>00:00:50.19</td>\n",
       "      <td>+15:21:44.2</td>\n",
       "      <td>39</td>\n",
       "      <td>0.914</td>\n",
       "      <td>0.060</td>\n",
       "      <td>E</td>\n",
       "      <td>E6</td>\n",
       "    </tr>\n",
       "    <tr>\n",
       "      <th>149</th>\n",
       "      <td>5.880155e+17</td>\n",
       "      <td>00:00:51.56</td>\n",
       "      <td>+00:53:23.9</td>\n",
       "      <td>25</td>\n",
       "      <td>1.000</td>\n",
       "      <td>0.000</td>\n",
       "      <td>E</td>\n",
       "      <td>E0</td>\n",
       "    </tr>\n",
       "    <tr>\n",
       "      <th>150</th>\n",
       "      <td>5.880155e+17</td>\n",
       "      <td>00:00:51.75</td>\n",
       "      <td>-01:11:53.9</td>\n",
       "      <td>27</td>\n",
       "      <td>0.815</td>\n",
       "      <td>0.111</td>\n",
       "      <td>E</td>\n",
       "      <td>E6</td>\n",
       "    </tr>\n",
       "    <tr>\n",
       "      <th>156</th>\n",
       "      <td>5.877272e+17</td>\n",
       "      <td>00:00:52.52</td>\n",
       "      <td>+16:05:35.8</td>\n",
       "      <td>56</td>\n",
       "      <td>0.815</td>\n",
       "      <td>0.078</td>\n",
       "      <td>E</td>\n",
       "      <td>E6</td>\n",
       "    </tr>\n",
       "    <tr>\n",
       "      <th>181</th>\n",
       "      <td>5.877272e+17</td>\n",
       "      <td>00:01:00.19</td>\n",
       "      <td>-09:36:12.4</td>\n",
       "      <td>27</td>\n",
       "      <td>1.000</td>\n",
       "      <td>0.000</td>\n",
       "      <td>E</td>\n",
       "      <td>E1</td>\n",
       "    </tr>\n",
       "    <tr>\n",
       "      <th>191</th>\n",
       "      <td>5.877272e+17</td>\n",
       "      <td>00:01:05.80</td>\n",
       "      <td>-09:42:40.8</td>\n",
       "      <td>30</td>\n",
       "      <td>0.967</td>\n",
       "      <td>0.000</td>\n",
       "      <td>E</td>\n",
       "      <td>E4</td>\n",
       "    </tr>\n",
       "    <tr>\n",
       "      <th>195</th>\n",
       "      <td>5.877308e+17</td>\n",
       "      <td>00:01:07.75</td>\n",
       "      <td>+15:28:10.1</td>\n",
       "      <td>35</td>\n",
       "      <td>0.971</td>\n",
       "      <td>0.029</td>\n",
       "      <td>E</td>\n",
       "      <td>E0</td>\n",
       "    </tr>\n",
       "    <tr>\n",
       "      <th>217</th>\n",
       "      <td>5.877308e+17</td>\n",
       "      <td>00:01:16.70</td>\n",
       "      <td>+14:57:49.0</td>\n",
       "      <td>29</td>\n",
       "      <td>0.802</td>\n",
       "      <td>0.128</td>\n",
       "      <td>E</td>\n",
       "      <td>E3</td>\n",
       "    </tr>\n",
       "    <tr>\n",
       "      <th>218</th>\n",
       "      <td>5.877312e+17</td>\n",
       "      <td>00:01:17.80</td>\n",
       "      <td>-00:56:12.0</td>\n",
       "      <td>49</td>\n",
       "      <td>0.855</td>\n",
       "      <td>0.084</td>\n",
       "      <td>E</td>\n",
       "      <td>E7</td>\n",
       "    </tr>\n",
       "    <tr>\n",
       "      <th>224</th>\n",
       "      <td>5.877308e+17</td>\n",
       "      <td>00:01:20.48</td>\n",
       "      <td>+13:44:48.2</td>\n",
       "      <td>35</td>\n",
       "      <td>0.846</td>\n",
       "      <td>0.125</td>\n",
       "      <td>E</td>\n",
       "      <td>E2</td>\n",
       "    </tr>\n",
       "    <tr>\n",
       "      <th>235</th>\n",
       "      <td>5.877312e+17</td>\n",
       "      <td>00:01:26.33</td>\n",
       "      <td>-00:01:43.1</td>\n",
       "      <td>59</td>\n",
       "      <td>0.881</td>\n",
       "      <td>0.017</td>\n",
       "      <td>E</td>\n",
       "      <td>E7</td>\n",
       "    </tr>\n",
       "    <tr>\n",
       "      <th>236</th>\n",
       "      <td>5.877312e+17</td>\n",
       "      <td>00:01:26.36</td>\n",
       "      <td>-00:12:33.1</td>\n",
       "      <td>35</td>\n",
       "      <td>0.873</td>\n",
       "      <td>0.070</td>\n",
       "      <td>E</td>\n",
       "      <td>E6</td>\n",
       "    </tr>\n",
       "    <tr>\n",
       "      <th>260</th>\n",
       "      <td>5.877312e+17</td>\n",
       "      <td>00:01:34.63</td>\n",
       "      <td>+00:16:28.0</td>\n",
       "      <td>26</td>\n",
       "      <td>0.962</td>\n",
       "      <td>0.000</td>\n",
       "      <td>E</td>\n",
       "      <td>E7</td>\n",
       "    </tr>\n",
       "    <tr>\n",
       "      <th>271</th>\n",
       "      <td>5.877312e+17</td>\n",
       "      <td>00:01:40.18</td>\n",
       "      <td>-00:33:50.6</td>\n",
       "      <td>68</td>\n",
       "      <td>0.915</td>\n",
       "      <td>0.055</td>\n",
       "      <td>E</td>\n",
       "      <td>E0</td>\n",
       "    </tr>\n",
       "    <tr>\n",
       "      <th>277</th>\n",
       "      <td>5.880155e+17</td>\n",
       "      <td>00:01:42.92</td>\n",
       "      <td>-00:16:43.6</td>\n",
       "      <td>32</td>\n",
       "      <td>0.906</td>\n",
       "      <td>0.031</td>\n",
       "      <td>E</td>\n",
       "      <td>E3</td>\n",
       "    </tr>\n",
       "    <tr>\n",
       "      <th>...</th>\n",
       "      <td>...</td>\n",
       "      <td>...</td>\n",
       "      <td>...</td>\n",
       "      <td>...</td>\n",
       "      <td>...</td>\n",
       "      <td>...</td>\n",
       "      <td>...</td>\n",
       "      <td>...</td>\n",
       "    </tr>\n",
       "    <tr>\n",
       "      <th>667592</th>\n",
       "      <td>5.877272e+17</td>\n",
       "      <td>23:57:54.00</td>\n",
       "      <td>-09:47:46.4</td>\n",
       "      <td>27</td>\n",
       "      <td>0.815</td>\n",
       "      <td>0.148</td>\n",
       "      <td>E</td>\n",
       "      <td>E4</td>\n",
       "    </tr>\n",
       "    <tr>\n",
       "      <th>667600</th>\n",
       "      <td>5.877272e+17</td>\n",
       "      <td>23:57:58.36</td>\n",
       "      <td>+14:49:55.2</td>\n",
       "      <td>54</td>\n",
       "      <td>0.920</td>\n",
       "      <td>0.041</td>\n",
       "      <td>E</td>\n",
       "      <td>E0</td>\n",
       "    </tr>\n",
       "    <tr>\n",
       "      <th>667604</th>\n",
       "      <td>5.877312e+17</td>\n",
       "      <td>23:57:59.85</td>\n",
       "      <td>+00:46:08.6</td>\n",
       "      <td>67</td>\n",
       "      <td>0.942</td>\n",
       "      <td>0.028</td>\n",
       "      <td>E</td>\n",
       "      <td>E4</td>\n",
       "    </tr>\n",
       "    <tr>\n",
       "      <th>667637</th>\n",
       "      <td>5.877272e+17</td>\n",
       "      <td>23:58:12.33</td>\n",
       "      <td>-10:28:01.5</td>\n",
       "      <td>36</td>\n",
       "      <td>0.804</td>\n",
       "      <td>0.085</td>\n",
       "      <td>E</td>\n",
       "      <td>E2</td>\n",
       "    </tr>\n",
       "    <tr>\n",
       "      <th>667640</th>\n",
       "      <td>5.877308e+17</td>\n",
       "      <td>23:58:15.11</td>\n",
       "      <td>+15:05:43.6</td>\n",
       "      <td>65</td>\n",
       "      <td>0.908</td>\n",
       "      <td>0.092</td>\n",
       "      <td>E</td>\n",
       "      <td>E7</td>\n",
       "    </tr>\n",
       "    <tr>\n",
       "      <th>667659</th>\n",
       "      <td>5.877312e+17</td>\n",
       "      <td>23:58:21.71</td>\n",
       "      <td>+01:09:43.2</td>\n",
       "      <td>35</td>\n",
       "      <td>0.823</td>\n",
       "      <td>0.091</td>\n",
       "      <td>E</td>\n",
       "      <td>E0</td>\n",
       "    </tr>\n",
       "    <tr>\n",
       "      <th>667660</th>\n",
       "      <td>5.877308e+17</td>\n",
       "      <td>23:58:22.47</td>\n",
       "      <td>+15:30:19.4</td>\n",
       "      <td>30</td>\n",
       "      <td>0.800</td>\n",
       "      <td>0.033</td>\n",
       "      <td>E</td>\n",
       "      <td>E5</td>\n",
       "    </tr>\n",
       "    <tr>\n",
       "      <th>667668</th>\n",
       "      <td>5.877312e+17</td>\n",
       "      <td>23:58:24.03</td>\n",
       "      <td>-00:25:18.6</td>\n",
       "      <td>25</td>\n",
       "      <td>0.960</td>\n",
       "      <td>0.000</td>\n",
       "      <td>E</td>\n",
       "      <td>E5</td>\n",
       "    </tr>\n",
       "    <tr>\n",
       "      <th>667669</th>\n",
       "      <td>5.877272e+17</td>\n",
       "      <td>23:58:24.37</td>\n",
       "      <td>+15:13:15.9</td>\n",
       "      <td>33</td>\n",
       "      <td>0.918</td>\n",
       "      <td>0.082</td>\n",
       "      <td>E</td>\n",
       "      <td>E6</td>\n",
       "    </tr>\n",
       "    <tr>\n",
       "      <th>667676</th>\n",
       "      <td>5.877272e+17</td>\n",
       "      <td>23:58:26.16</td>\n",
       "      <td>-10:28:33.7</td>\n",
       "      <td>23</td>\n",
       "      <td>0.911</td>\n",
       "      <td>0.046</td>\n",
       "      <td>E</td>\n",
       "      <td>E3</td>\n",
       "    </tr>\n",
       "    <tr>\n",
       "      <th>667685</th>\n",
       "      <td>5.877272e+17</td>\n",
       "      <td>23:58:28.71</td>\n",
       "      <td>+15:13:39.1</td>\n",
       "      <td>53</td>\n",
       "      <td>0.758</td>\n",
       "      <td>0.144</td>\n",
       "      <td>E</td>\n",
       "      <td>E4</td>\n",
       "    </tr>\n",
       "    <tr>\n",
       "      <th>667699</th>\n",
       "      <td>5.877272e+17</td>\n",
       "      <td>23:58:34.45</td>\n",
       "      <td>-10:00:39.4</td>\n",
       "      <td>28</td>\n",
       "      <td>0.767</td>\n",
       "      <td>0.196</td>\n",
       "      <td>E</td>\n",
       "      <td>E5</td>\n",
       "    </tr>\n",
       "    <tr>\n",
       "      <th>667703</th>\n",
       "      <td>5.877272e+17</td>\n",
       "      <td>23:58:36.34</td>\n",
       "      <td>-10:18:45.0</td>\n",
       "      <td>34</td>\n",
       "      <td>0.971</td>\n",
       "      <td>0.000</td>\n",
       "      <td>E</td>\n",
       "      <td>E7</td>\n",
       "    </tr>\n",
       "    <tr>\n",
       "      <th>667721</th>\n",
       "      <td>5.877272e+17</td>\n",
       "      <td>23:58:43.20</td>\n",
       "      <td>-10:03:28.3</td>\n",
       "      <td>35</td>\n",
       "      <td>0.877</td>\n",
       "      <td>0.095</td>\n",
       "      <td>E</td>\n",
       "      <td>E0</td>\n",
       "    </tr>\n",
       "    <tr>\n",
       "      <th>667730</th>\n",
       "      <td>5.877312e+17</td>\n",
       "      <td>23:58:45.67</td>\n",
       "      <td>+01:13:42.3</td>\n",
       "      <td>65</td>\n",
       "      <td>0.877</td>\n",
       "      <td>0.031</td>\n",
       "      <td>E</td>\n",
       "      <td>E2</td>\n",
       "    </tr>\n",
       "    <tr>\n",
       "      <th>667760</th>\n",
       "      <td>5.880155e+17</td>\n",
       "      <td>23:58:55.21</td>\n",
       "      <td>+00:30:17.2</td>\n",
       "      <td>33</td>\n",
       "      <td>0.840</td>\n",
       "      <td>0.100</td>\n",
       "      <td>E</td>\n",
       "      <td>E1</td>\n",
       "    </tr>\n",
       "    <tr>\n",
       "      <th>667788</th>\n",
       "      <td>5.877272e+17</td>\n",
       "      <td>23:59:08.89</td>\n",
       "      <td>+14:46:20.0</td>\n",
       "      <td>63</td>\n",
       "      <td>0.820</td>\n",
       "      <td>0.128</td>\n",
       "      <td>E</td>\n",
       "      <td>E4</td>\n",
       "    </tr>\n",
       "    <tr>\n",
       "      <th>667797</th>\n",
       "      <td>5.877308e+17</td>\n",
       "      <td>23:59:11.70</td>\n",
       "      <td>+13:44:32.2</td>\n",
       "      <td>43</td>\n",
       "      <td>0.916</td>\n",
       "      <td>0.061</td>\n",
       "      <td>E</td>\n",
       "      <td>E6</td>\n",
       "    </tr>\n",
       "    <tr>\n",
       "      <th>667806</th>\n",
       "      <td>5.877308e+17</td>\n",
       "      <td>23:59:14.57</td>\n",
       "      <td>+13:51:31.1</td>\n",
       "      <td>26</td>\n",
       "      <td>0.808</td>\n",
       "      <td>0.077</td>\n",
       "      <td>E</td>\n",
       "      <td>E6</td>\n",
       "    </tr>\n",
       "    <tr>\n",
       "      <th>667819</th>\n",
       "      <td>5.877272e+17</td>\n",
       "      <td>23:59:18.09</td>\n",
       "      <td>-10:31:44.3</td>\n",
       "      <td>32</td>\n",
       "      <td>0.843</td>\n",
       "      <td>0.063</td>\n",
       "      <td>E</td>\n",
       "      <td>E2</td>\n",
       "    </tr>\n",
       "    <tr>\n",
       "      <th>667825</th>\n",
       "      <td>5.877272e+17</td>\n",
       "      <td>23:59:19.99</td>\n",
       "      <td>+15:21:16.0</td>\n",
       "      <td>55</td>\n",
       "      <td>0.843</td>\n",
       "      <td>0.084</td>\n",
       "      <td>E</td>\n",
       "      <td>E3</td>\n",
       "    </tr>\n",
       "    <tr>\n",
       "      <th>667834</th>\n",
       "      <td>5.880155e+17</td>\n",
       "      <td>23:59:22.20</td>\n",
       "      <td>+00:59:46.4</td>\n",
       "      <td>19</td>\n",
       "      <td>0.803</td>\n",
       "      <td>0.088</td>\n",
       "      <td>E</td>\n",
       "      <td>E3</td>\n",
       "    </tr>\n",
       "    <tr>\n",
       "      <th>667843</th>\n",
       "      <td>5.877272e+17</td>\n",
       "      <td>23:59:25.45</td>\n",
       "      <td>-08:56:45.5</td>\n",
       "      <td>57</td>\n",
       "      <td>0.883</td>\n",
       "      <td>0.080</td>\n",
       "      <td>E</td>\n",
       "      <td>E4</td>\n",
       "    </tr>\n",
       "    <tr>\n",
       "      <th>667844</th>\n",
       "      <td>5.877312e+17</td>\n",
       "      <td>23:59:25.98</td>\n",
       "      <td>+00:43:17.0</td>\n",
       "      <td>55</td>\n",
       "      <td>0.960</td>\n",
       "      <td>0.040</td>\n",
       "      <td>E</td>\n",
       "      <td>E5</td>\n",
       "    </tr>\n",
       "    <tr>\n",
       "      <th>667854</th>\n",
       "      <td>5.877272e+17</td>\n",
       "      <td>23:59:29.62</td>\n",
       "      <td>+16:10:09.6</td>\n",
       "      <td>33</td>\n",
       "      <td>0.854</td>\n",
       "      <td>0.116</td>\n",
       "      <td>E</td>\n",
       "      <td>E2</td>\n",
       "    </tr>\n",
       "    <tr>\n",
       "      <th>667875</th>\n",
       "      <td>5.877308e+17</td>\n",
       "      <td>23:59:39.18</td>\n",
       "      <td>+15:29:20.5</td>\n",
       "      <td>29</td>\n",
       "      <td>0.818</td>\n",
       "      <td>0.148</td>\n",
       "      <td>E</td>\n",
       "      <td>E1</td>\n",
       "    </tr>\n",
       "    <tr>\n",
       "      <th>667876</th>\n",
       "      <td>5.877272e+17</td>\n",
       "      <td>23:59:39.22</td>\n",
       "      <td>-10:38:38.2</td>\n",
       "      <td>36</td>\n",
       "      <td>0.972</td>\n",
       "      <td>0.000</td>\n",
       "      <td>E</td>\n",
       "      <td>E5</td>\n",
       "    </tr>\n",
       "    <tr>\n",
       "      <th>667885</th>\n",
       "      <td>5.877312e+17</td>\n",
       "      <td>23:59:41.28</td>\n",
       "      <td>+00:38:13.7</td>\n",
       "      <td>48</td>\n",
       "      <td>0.979</td>\n",
       "      <td>0.000</td>\n",
       "      <td>E</td>\n",
       "      <td>E0</td>\n",
       "    </tr>\n",
       "    <tr>\n",
       "      <th>667909</th>\n",
       "      <td>5.877308e+17</td>\n",
       "      <td>23:59:48.46</td>\n",
       "      <td>+14:16:33.6</td>\n",
       "      <td>33</td>\n",
       "      <td>0.879</td>\n",
       "      <td>0.121</td>\n",
       "      <td>E</td>\n",
       "      <td>E6</td>\n",
       "    </tr>\n",
       "    <tr>\n",
       "      <th>667913</th>\n",
       "      <td>5.877272e+17</td>\n",
       "      <td>23:59:50.02</td>\n",
       "      <td>+14:26:08.6</td>\n",
       "      <td>26</td>\n",
       "      <td>0.881</td>\n",
       "      <td>0.080</td>\n",
       "      <td>E</td>\n",
       "      <td>E4</td>\n",
       "    </tr>\n",
       "  </tbody>\n",
       "</table>\n",
       "<p>62190 rows × 8 columns</p>\n",
       "</div>"
      ],
      "text/plain": [
       "                  id           ra          dec  nvote    p_e    p_s type class\n",
       "3       5.877308e+17  00:00:01.38  +15:30:35.3     52  0.885  0.077    E    E1\n",
       "15      5.877312e+17  00:00:04.12  +00:45:07.9     30  0.913  0.054    E    E4\n",
       "25      5.877272e+17  00:00:06.70  +14:19:58.5     55  0.818  0.073    E    E0\n",
       "30      5.877308e+17  00:00:07.62  +15:50:03.2     31  1.000  0.000    E    E2\n",
       "51      5.877272e+17  00:00:14.09  -10:28:45.9     67  0.927  0.028    E    E3\n",
       "53      5.877272e+17  00:00:14.60  +13:55:32.3     32  0.716  0.180    E    E1\n",
       "61      5.877308e+17  00:00:17.63  +15:25:53.0     28  0.819  0.074    E    E6\n",
       "86      5.877308e+17  00:00:29.30  +14:37:31.4     30  0.761  0.204    E    E5\n",
       "101     5.877272e+17  00:00:36.82  +14:27:42.6     38  0.859  0.114    E    E1\n",
       "109     5.877272e+17  00:00:39.86  -11:09:27.7     29  0.931  0.034    E    E5\n",
       "111     5.877308e+17  00:00:40.03  +15:56:51.8     33  0.909  0.030    E    E2\n",
       "112     5.877308e+17  00:00:40.04  +14:33:07.7     53  0.925  0.019    E    E7\n",
       "119     5.877272e+17  00:00:41.28  +14:29:25.4     32  0.811  0.189    E    E0\n",
       "125     5.877312e+17  00:00:44.15  +00:40:22.8     27  0.923  0.077    E    E6\n",
       "140     5.877308e+17  00:00:49.53  +14:58:27.6     31  0.812  0.155    E    E0\n",
       "141     5.877272e+17  00:00:50.19  +15:21:44.2     39  0.914  0.060    E    E6\n",
       "149     5.880155e+17  00:00:51.56  +00:53:23.9     25  1.000  0.000    E    E0\n",
       "150     5.880155e+17  00:00:51.75  -01:11:53.9     27  0.815  0.111    E    E6\n",
       "156     5.877272e+17  00:00:52.52  +16:05:35.8     56  0.815  0.078    E    E6\n",
       "181     5.877272e+17  00:01:00.19  -09:36:12.4     27  1.000  0.000    E    E1\n",
       "191     5.877272e+17  00:01:05.80  -09:42:40.8     30  0.967  0.000    E    E4\n",
       "195     5.877308e+17  00:01:07.75  +15:28:10.1     35  0.971  0.029    E    E0\n",
       "217     5.877308e+17  00:01:16.70  +14:57:49.0     29  0.802  0.128    E    E3\n",
       "218     5.877312e+17  00:01:17.80  -00:56:12.0     49  0.855  0.084    E    E7\n",
       "224     5.877308e+17  00:01:20.48  +13:44:48.2     35  0.846  0.125    E    E2\n",
       "235     5.877312e+17  00:01:26.33  -00:01:43.1     59  0.881  0.017    E    E7\n",
       "236     5.877312e+17  00:01:26.36  -00:12:33.1     35  0.873  0.070    E    E6\n",
       "260     5.877312e+17  00:01:34.63  +00:16:28.0     26  0.962  0.000    E    E7\n",
       "271     5.877312e+17  00:01:40.18  -00:33:50.6     68  0.915  0.055    E    E0\n",
       "277     5.880155e+17  00:01:42.92  -00:16:43.6     32  0.906  0.031    E    E3\n",
       "...              ...          ...          ...    ...    ...    ...  ...   ...\n",
       "667592  5.877272e+17  23:57:54.00  -09:47:46.4     27  0.815  0.148    E    E4\n",
       "667600  5.877272e+17  23:57:58.36  +14:49:55.2     54  0.920  0.041    E    E0\n",
       "667604  5.877312e+17  23:57:59.85  +00:46:08.6     67  0.942  0.028    E    E4\n",
       "667637  5.877272e+17  23:58:12.33  -10:28:01.5     36  0.804  0.085    E    E2\n",
       "667640  5.877308e+17  23:58:15.11  +15:05:43.6     65  0.908  0.092    E    E7\n",
       "667659  5.877312e+17  23:58:21.71  +01:09:43.2     35  0.823  0.091    E    E0\n",
       "667660  5.877308e+17  23:58:22.47  +15:30:19.4     30  0.800  0.033    E    E5\n",
       "667668  5.877312e+17  23:58:24.03  -00:25:18.6     25  0.960  0.000    E    E5\n",
       "667669  5.877272e+17  23:58:24.37  +15:13:15.9     33  0.918  0.082    E    E6\n",
       "667676  5.877272e+17  23:58:26.16  -10:28:33.7     23  0.911  0.046    E    E3\n",
       "667685  5.877272e+17  23:58:28.71  +15:13:39.1     53  0.758  0.144    E    E4\n",
       "667699  5.877272e+17  23:58:34.45  -10:00:39.4     28  0.767  0.196    E    E5\n",
       "667703  5.877272e+17  23:58:36.34  -10:18:45.0     34  0.971  0.000    E    E7\n",
       "667721  5.877272e+17  23:58:43.20  -10:03:28.3     35  0.877  0.095    E    E0\n",
       "667730  5.877312e+17  23:58:45.67  +01:13:42.3     65  0.877  0.031    E    E2\n",
       "667760  5.880155e+17  23:58:55.21  +00:30:17.2     33  0.840  0.100    E    E1\n",
       "667788  5.877272e+17  23:59:08.89  +14:46:20.0     63  0.820  0.128    E    E4\n",
       "667797  5.877308e+17  23:59:11.70  +13:44:32.2     43  0.916  0.061    E    E6\n",
       "667806  5.877308e+17  23:59:14.57  +13:51:31.1     26  0.808  0.077    E    E6\n",
       "667819  5.877272e+17  23:59:18.09  -10:31:44.3     32  0.843  0.063    E    E2\n",
       "667825  5.877272e+17  23:59:19.99  +15:21:16.0     55  0.843  0.084    E    E3\n",
       "667834  5.880155e+17  23:59:22.20  +00:59:46.4     19  0.803  0.088    E    E3\n",
       "667843  5.877272e+17  23:59:25.45  -08:56:45.5     57  0.883  0.080    E    E4\n",
       "667844  5.877312e+17  23:59:25.98  +00:43:17.0     55  0.960  0.040    E    E5\n",
       "667854  5.877272e+17  23:59:29.62  +16:10:09.6     33  0.854  0.116    E    E2\n",
       "667875  5.877308e+17  23:59:39.18  +15:29:20.5     29  0.818  0.148    E    E1\n",
       "667876  5.877272e+17  23:59:39.22  -10:38:38.2     36  0.972  0.000    E    E5\n",
       "667885  5.877312e+17  23:59:41.28  +00:38:13.7     48  0.979  0.000    E    E0\n",
       "667909  5.877308e+17  23:59:48.46  +14:16:33.6     33  0.879  0.121    E    E6\n",
       "667913  5.877272e+17  23:59:50.02  +14:26:08.6     26  0.881  0.080    E    E4\n",
       "\n",
       "[62190 rows x 8 columns]"
      ]
     },
     "execution_count": 18,
     "metadata": {},
     "output_type": "execute_result"
    }
   ],
   "source": [
    "gal_df[gal_df.type=='E']"
   ]
  },
  {
   "cell_type": "markdown",
   "metadata": {},
   "source": [
    "Notice when you assign the imported DataFrame to a variable, Python does not\n",
    "produce any output on the screen. We can print the value of the `gal_df`\n",
    "object by typing its name into the Python command prompt.\n"
   ]
  },
  {
   "cell_type": "markdown",
   "metadata": {},
   "source": [
    "## Manipulating Our Survey Data\n",
    "\n",
    "Now we can start manipulating our data. First, let's check the data type of the\n",
    "data stored in `gal_df` using the `type` method. The `type` method and\n",
    "`__class__` attribute tell us that `gal_df` is `<class 'pandas.core.frame.DataFrame'>`."
   ]
  },
  {
   "cell_type": "code",
   "execution_count": 7,
   "metadata": {
    "collapsed": false
   },
   "outputs": [
    {
     "data": {
      "text/plain": [
       "pandas.core.frame.DataFrame"
      ]
     },
     "execution_count": 7,
     "metadata": {},
     "output_type": "execute_result"
    }
   ],
   "source": [
    "type(gal_df)"
   ]
  },
  {
   "cell_type": "code",
   "execution_count": null,
   "metadata": {
    "collapsed": false
   },
   "outputs": [],
   "source": [
    "gal_df.__class__"
   ]
  },
  {
   "cell_type": "markdown",
   "metadata": {},
   "source": [
    "We can also enter `gal_df.dtypes` at our prompt to view the data type for each\n",
    "column in our DataFrame. `int64` represents numeric integer values - `int64` cells\n",
    "can not store decimals. `object` represents strings (letters and numbers). `float64`\n",
    "represents numbers with decimals."
   ]
  },
  {
   "cell_type": "code",
   "execution_count": 8,
   "metadata": {
    "collapsed": false
   },
   "outputs": [
    {
     "data": {
      "text/plain": [
       "id       float64\n",
       "ra        object\n",
       "dec       object\n",
       "nvote      int64\n",
       "p_e      float64\n",
       "p_s      float64\n",
       "type      object\n",
       "class     object\n",
       "dtype: object"
      ]
     },
     "execution_count": 8,
     "metadata": {},
     "output_type": "execute_result"
    }
   ],
   "source": [
    "gal_df.dtypes"
   ]
  },
  {
   "cell_type": "markdown",
   "metadata": {},
   "source": [
    "Pandas and base Python use slightly different names for data types. More on this\n",
    "is in the table below:\n",
    "\n",
    "| Pandas Type | Native Python Type | Description |\n",
    "|-------------|--------------------|-------------|\n",
    "| object | string | The most general dtype. Will be assigned to your column if column has mixed types (numbers and strings). |\n",
    "| int64  | int | Numeric characters. 64 refers to the memory allocated to hold this character. |\n",
    "| float64 | float | Numeric characters with decimals. If a column contains numbers and NaNs(see below), pandas will default to float64, in case your missing value has a decimal. |\n",
    "| datetime64, timedelta[ns] | N/A (but see the [datetime] module in Python's standard library) | Values meant to hold time data. Look into these for time series experiments. |\n",
    "\n",
    "[datetime]: http://doc.python.org/2/library/datetime.html\n",
    "\n",
    "\n",
    "## Remember the way python treats integer division?\n",
    "\n",
    "**In python 2 integer division returns and integer, as opposed to python 3 where we get a float.**\n",
    "If at least one of the numebrs is a float then we get a float.\n",
    "Alternatively we could use ```from __future__ import division```, which will then treat integer division in\n",
    "python 2 as python 3. However, be aware that if the way python handles division is changed in the future your code might break. So choose what you think is the most stable option for your scripts!\n",
    "\n",
    "\n",
    "To modify the format of values within our data frame we can use the ```astype``` function (also remember in pandas the type is `float64`).\n",
    "Don't forget this is a function within pandas so we use it with a `.`, for example to convert \n",
    "the `nvote` field to floating point values we would run:\n"
   ]
  },
  {
   "cell_type": "code",
   "execution_count": null,
   "metadata": {
    "collapsed": false
   },
   "outputs": [],
   "source": [
    "10/3"
   ]
  },
  {
   "cell_type": "code",
   "execution_count": null,
   "metadata": {
    "collapsed": false
   },
   "outputs": [],
   "source": [
    "# convert the nvote field from an integer to a float\n",
    "gal_df['nvote']=gal_df['nvote'].astype('float64')"
   ]
  },
  {
   "cell_type": "code",
   "execution_count": null,
   "metadata": {
    "collapsed": false
   },
   "outputs": [],
   "source": [
    "gal_df.dtypes"
   ]
  },
  {
   "cell_type": "code",
   "execution_count": null,
   "metadata": {
    "collapsed": false
   },
   "outputs": [],
   "source": [
    "from __future__ import division\n",
    "10/3"
   ]
  },
  {
   "cell_type": "markdown",
   "metadata": {},
   "source": [
    "What happens if we try to convert probability values to integers?"
   ]
  },
  {
   "cell_type": "code",
   "execution_count": null,
   "metadata": {
    "collapsed": false
   },
   "outputs": [],
   "source": [
    "gal_df['p_e']=gal_df['p_e'].astype('int64')"
   ]
  },
  {
   "cell_type": "markdown",
   "metadata": {},
   "source": [
    "Notice that this throws a value error: `ValueError: Cannot convert NA to\n",
    "integer`. If we look at the `weight` column in the surveys data we notice that\n",
    "there are NaN (**N**ot **a** **N**umber) values. *NaN* values are undefined\n",
    "values that cannot be represented mathematically. Pandas, for example, will read\n",
    "an empty cell in a CSV or Excel sheet as a NaN. NaNs have some desirable\n",
    "properties: if we were to average the `weight` column without replacing our NaNs,\n",
    "Python would know to skip over those cells.\n"
   ]
  },
  {
   "cell_type": "code",
   "execution_count": null,
   "metadata": {
    "collapsed": false
   },
   "outputs": [],
   "source": [
    "gal_df['p_e'].mean()\n"
   ]
  },
  {
   "cell_type": "markdown",
   "metadata": {},
   "source": [
    "_Note: older pandas version do not know how to handle NaN, please update to v0.19_\n",
    "\n",
    "Check your pandas version using `pd.__version__`, if you need to update open a bash shell\n",
    "and type ```conda update pandas```.\n",
    "\n",
    "---\n",
    "\n",
    "## Missing Data Values - NaN\n",
    "\n",
    "Dealing with missing data values is always a challenge. It's sometimes hard to\n",
    "know why values are missing - was it because of a data entry error? Or data that\n",
    "someone was unable to collect? Should the value be 0? We need to know how\n",
    "missing values are represented in the dataset in order to make good decisions.\n",
    "If we're lucky, we have some metadata that will tell us more about how null\n",
    "values were handled.\n",
    "\n",
    "For instance, in some disciplines, like Remote Sensing, missing data values are\n",
    "often defined as -9999. Having a bunch of -9999 values in your data could really\n",
    "alter numeric calculations. Often in spreadsheets, cells are left empty where no\n",
    "data are available. Pandas will, by default, replace those missing values with\n",
    "NaN. However it is good practice to get in the habit of intentionally marking\n",
    "cells that have no data, with a no data value! That way there are no questions\n",
    "in the future when you (or someone else) explores your data.\n",
    "\n",
    "### Where Are the NaN's?\n",
    "\n",
    "Let's explore the NaN values in our data a bit further. \n",
    "First, let's figure out how many rows contain NaN values for weight. \n",
    "We can do this by identifying how many rows have a NULL value (`.isnull`) or by counting the number of rows that have a meaningful value (e.g., p_e>0):"
   ]
  },
  {
   "cell_type": "code",
   "execution_count": null,
   "metadata": {
    "collapsed": false
   },
   "outputs": [],
   "source": [
    "len(gal_df[pd.isnull(gal_df.p_e)])"
   ]
  },
  {
   "cell_type": "code",
   "execution_count": null,
   "metadata": {
    "collapsed": false
   },
   "outputs": [],
   "source": [
    "len(gal_df[gal_df.p_e>=0])"
   ]
  },
  {
   "cell_type": "markdown",
   "metadata": {},
   "source": [
    "We can replace all NaN values with zeroes using the `.fillna()` method (after\n",
    "making a copy of the data so we don't lose our work).\n",
    "\n",
    "However, NaN and 0 yield different analysis results. The mean value when NaN\n",
    "values are replaced with 0 is different from when NaN values are simply thrown\n",
    "out or ignored."
   ]
  },
  {
   "cell_type": "code",
   "execution_count": null,
   "metadata": {
    "collapsed": true
   },
   "outputs": [],
   "source": [
    "#replace nan with 0\n",
    "df1 = gal_df.copy()\n",
    "df1['p_e']=df1['p_e'].fillna(0)"
   ]
  },
  {
   "cell_type": "code",
   "execution_count": null,
   "metadata": {
    "collapsed": false
   },
   "outputs": [],
   "source": [
    "#check mean, how does it differ from before?\n",
    "print(gal_df['p_e'].mean())\n",
    "df1['p_e'].mean()"
   ]
  },
  {
   "cell_type": "markdown",
   "metadata": {},
   "source": [
    "We can fill NaN values with any value that we chose. The code below fills all\n",
    "NaN values with the mean of all probability values.\n",
    "\n",
    "```python\n",
    " df1['p_e'] = gal_df['p_e'].fillna(gal_df['p_e'].mean())\n",
    "```\n",
    "\n",
    "We could also chose to create a subset of our data, only keeping rows that do\n",
    "not contain NaN values, using `.dropna()` method.\n",
    "\n",
    "**The point is to make conscious decisions about how to manage missing data.** \n",
    "This is where we think about how our data will be used and how these values will\n",
    "impact the scientific conclusions made from the data.\n",
    "\n",
    "Python gives us all of the tools that we need to account for these issues. We\n",
    "just need to be cautious about how the decisions that we make impact scientific\n",
    "results."
   ]
  },
  {
   "cell_type": "code",
   "execution_count": null,
   "metadata": {
    "collapsed": false
   },
   "outputs": [],
   "source": [
    " df1['p_e'] = gal_df['p_e'].fillna(gal_df['p_e'].mean())"
   ]
  },
  {
   "cell_type": "code",
   "execution_count": null,
   "metadata": {
    "collapsed": false
   },
   "outputs": [],
   "source": [
    "print(gal_df['p_e'].mean())\n",
    "df1['p_e'].mean()"
   ]
  },
  {
   "cell_type": "markdown",
   "metadata": {},
   "source": [
    "## Useful Ways to View DataFrame objects in Python\n",
    "\n",
    "There are multiple methods that can be used to summarize and access the data\n",
    "stored in DataFrames. Let's try out a few. Note that we call the method by using\n",
    "the object name `gal_df.method`. So `gal_df.columns` provides an index\n",
    "of all of the column names in our DataFrame.\n",
    "\n",
    "### Challenges\n",
    "\n",
    "Try out the methods below to see what they return.\n",
    "\n",
    "1. `gal_df.columns`.\n",
    "2. `gal_df.head()`. Also, what does `gal_df.head(15)` do?\n",
    "3. `gal_df.tail()`.\n",
    "4. `gal_df.shape`. Take note of the output of the shape method. What format does it return the shape of the DataFrame in?\n",
    "\n",
    "HINT: [More on tuples, here](https://docs.python.org/3/tutorial/datastructures.html#tuples-and-sequences).\n"
   ]
  },
  {
   "cell_type": "code",
   "execution_count": null,
   "metadata": {
    "collapsed": false
   },
   "outputs": [],
   "source": []
  },
  {
   "cell_type": "code",
   "execution_count": null,
   "metadata": {
    "collapsed": false
   },
   "outputs": [],
   "source": []
  },
  {
   "cell_type": "code",
   "execution_count": null,
   "metadata": {
    "collapsed": false
   },
   "outputs": [],
   "source": []
  },
  {
   "cell_type": "markdown",
   "metadata": {},
   "source": [
    "## Calculating Statistics From Data In A Pandas DataFrame\n",
    "\n",
    "We've read our data into Python. Next, let's perform some quick summary\n",
    "statistics to learn more about the data that we're working with. We might want\n",
    "to know how many animals were collected in each plot, or how many of each\n",
    "species were caught. We can perform summary stats quickly using groups. But\n",
    "first we need to figure out what we want to group by.\n",
    "\n",
    "Let's begin by exploring our data:"
   ]
  },
  {
   "cell_type": "code",
   "execution_count": null,
   "metadata": {
    "collapsed": false
   },
   "outputs": [],
   "source": [
    "gal_df.columns.values"
   ]
  },
  {
   "cell_type": "markdown",
   "metadata": {},
   "source": [
    "## Selecting Data Using Labels (Column Headings)\n",
    "\n",
    "To recap, we use square brackets `[]` to select a subset of an Python object. For example,\n",
    "we can select all of data from a column named `type` from the `gal_df`\n",
    "DataFrame by name:\n",
    "\n",
    "```python\n",
    "gal_df['type']\n",
    "# this syntax, calling the column as an attribute, gives you the same output\n",
    "gal_df.type\n",
    "```\n",
    "\n",
    "We can also create an new object that contains the data within the `type`\n",
    "column as follows:\n",
    "\n",
    "```python\n",
    "# create an object named gal_types that only contains the `types` column\n",
    "gal_types = gal_df['types']\n",
    "```\n",
    "\n",
    "We can pass a list of column names too, as an index to select columns in that\n",
    "order. This is useful when we need to reorganize our data.\n",
    "\n",
    "**NOTE:** If a column name is not contained in the DataFrame, an exception\n",
    "(error) will be raised.\n",
    "\n",
    "```python\n",
    "# select the species and plot columns from the DataFrame\n",
    "gal_df[['type', 'class']]\n",
    "# what happens when you flip the order?\n",
    "gal_df[['class', 'type']]\n",
    "#what happens if you ask for a column that doesn't exist?\n",
    "gal_df['types']\n",
    "```\n",
    "\n",
    "Let's get a list of all the galaxy types. The `pd.unique` function tells us all of\n",
    "the unique values in the `type` column:"
   ]
  },
  {
   "cell_type": "code",
   "execution_count": null,
   "metadata": {
    "collapsed": false
   },
   "outputs": [],
   "source": [
    "pd.unique(gal_df['type'])\n",
    "# or \n",
    "pd.unique(gal_df.type)"
   ]
  },
  {
   "cell_type": "code",
   "execution_count": null,
   "metadata": {
    "collapsed": false
   },
   "outputs": [],
   "source": [
    "gal_types = gal_df['type'].copy()\n",
    "gal_types[1]=0\n",
    "gal_types"
   ]
  },
  {
   "cell_type": "markdown",
   "metadata": {},
   "source": [
    "### Challenges\n",
    "\n",
    "1. What is the difference between `len(gal_df.nvote)` and `gal_df['nvote'].nunique()`?"
   ]
  },
  {
   "cell_type": "code",
   "execution_count": null,
   "metadata": {
    "collapsed": false
   },
   "outputs": [],
   "source": []
  },
  {
   "cell_type": "code",
   "execution_count": null,
   "metadata": {
    "collapsed": false
   },
   "outputs": [],
   "source": []
  },
  {
   "cell_type": "markdown",
   "metadata": {},
   "source": [
    "## Groups in Pandas\n",
    "\n",
    "We often want to calculate summary statistics grouped by subsets or attributes\n",
    "within fields of our data. For example, we might want to calculate the average\n",
    "weight of all individuals per plot.\n",
    "\n",
    "The Pandas function `describe` will return descriptive stats including: mean,\n",
    "median, max, min, std and count for a particular column in the data. Pandas'\n",
    "`describe` function will only return summary values for columns containing\n",
    "numeric data.\n",
    "We can calculate basic statistics for all records in a single column using the\n",
    "syntax below:"
   ]
  },
  {
   "cell_type": "code",
   "execution_count": null,
   "metadata": {
    "collapsed": false
   },
   "outputs": [],
   "source": [
    "gal_df.describe()"
   ]
  },
  {
   "cell_type": "markdown",
   "metadata": {},
   "source": [
    "We can also extract one specific metric if we wish:\n",
    "\n",
    "```python\n",
    "gal_df['nvote'].min()\n",
    "gal_df['nvote'].max()\n",
    "gal_df['nvote'].mean()\n",
    "gal_df['nvote'].std()\n",
    "gal_df['nvote'].count()\n",
    "```\n",
    "\n",
    "But if we want to summarize by one or more variables, for example galaxy type, we can\n",
    "use Pandas' `.groupby` method. Once we've created a groupby DataFrame, we\n",
    "can quickly calculate summary statistics by a group of our choice."
   ]
  },
  {
   "cell_type": "code",
   "execution_count": null,
   "metadata": {
    "collapsed": false
   },
   "outputs": [],
   "source": [
    "sorted_data = gal_df.groupby('type')\n",
    "# summary statistics for all numeric columns by type\n",
    "sorted_data.describe()"
   ]
  },
  {
   "cell_type": "code",
   "execution_count": null,
   "metadata": {
    "collapsed": false
   },
   "outputs": [],
   "source": [
    "# provide the mean for each numeric column by type\n",
    "sorted_data.mean()"
   ]
  },
  {
   "cell_type": "markdown",
   "metadata": {},
   "source": [
    "The `groupby` command is powerful in that it allows us to quickly generate\n",
    "summary stats.\n",
    "\n",
    "## Quickly Creating Summary Counts in Pandas\n",
    "\n",
    "Let's next count the number of galaxies for each type. We can do this in a few\n",
    "ways, but we'll use `groupby` combined with a `count()` method.\n",
    "\n",
    "\n",
    "```python\n",
    "# count the number of samples by type\n",
    "type_counts = gal_df.groupby('type')['id'].count()\n",
    "```\n",
    "\n",
    "Or, we can also count just the rows that have type='U':\n",
    "\n",
    "```python\n",
    "gal_df.groupby('type')['id'].count()['U']\n",
    "```\n",
    "\n",
    "\n",
    "### Challenge\n",
    "\n",
    "1. What happens when you group by two columns using the following syntax and\n",
    "    then grab mean values:\n",
    "\t- `sorted_data2 = gal_df.groupby(['type','p_e'])`\n",
    "\t- `sorted_data2.mean()`\n",
    "2. Summarize number of votes for each galaxy class in your data. HINT: you can use the\n",
    "   following syntax to only create summary statistics for one column in your data\n",
    "   `by_class['nvote'].describe()`"
   ]
  },
  {
   "cell_type": "code",
   "execution_count": null,
   "metadata": {
    "collapsed": false
   },
   "outputs": [],
   "source": []
  },
  {
   "cell_type": "code",
   "execution_count": null,
   "metadata": {
    "collapsed": false
   },
   "outputs": [],
   "source": []
  },
  {
   "cell_type": "code",
   "execution_count": null,
   "metadata": {
    "collapsed": false
   },
   "outputs": [],
   "source": []
  },
  {
   "cell_type": "code",
   "execution_count": null,
   "metadata": {
    "collapsed": false
   },
   "outputs": [],
   "source": []
  },
  {
   "cell_type": "markdown",
   "metadata": {},
   "source": [
    "\n",
    "## Basic Math Functions\n",
    "\n",
    "If we wanted to, we could perform math on an entire column of our data. For\n",
    "example let's multiply all votes by 2. A more practical use of this might\n",
    "be to normalize the data according to a mean, area, or some other value\n",
    "calculated from our data."
   ]
  },
  {
   "cell_type": "code",
   "execution_count": null,
   "metadata": {
    "collapsed": false
   },
   "outputs": [],
   "source": [
    "gal_df.nvote.head()\n",
    "# multiply all votes by 2\n",
    "gal_df['nvote']*=2"
   ]
  },
  {
   "cell_type": "code",
   "execution_count": null,
   "metadata": {
    "collapsed": false
   },
   "outputs": [],
   "source": [
    "gal_df['nvote'].head()"
   ]
  },
  {
   "cell_type": "markdown",
   "metadata": {},
   "source": [
    "## Quick & Easy Plotting Data Using Pandas\n",
    "\n",
    "We can plot our summary stats using Pandas, too."
   ]
  },
  {
   "cell_type": "code",
   "execution_count": null,
   "metadata": {
    "collapsed": false
   },
   "outputs": [],
   "source": [
    "# make sure figures appear inline in Ipython Notebook\n",
    "%matplotlib inline\n",
    "# create a quick bar chart of the number of votes\n",
    "votes = gal_df.groupby('nvote')['id'].count()\n",
    "votes.plot(kind='bar')"
   ]
  },
  {
   "cell_type": "code",
   "execution_count": null,
   "metadata": {
    "collapsed": false
   },
   "outputs": [],
   "source": [
    "#We can also look at how many galaxies were assigned to each class:\n",
    "total_count = gal_df['id'].groupby(gal_df['class']).nunique()\n",
    "# let's plot that too\n",
    "total_count.plot(kind='bar')"
   ]
  },
  {
   "cell_type": "markdown",
   "metadata": {},
   "source": [
    "### Challenge Activities\n",
    "\n",
    "1. Create a plot of average votes across all class of galaxies.\n",
    "2. Create a plot of total votes for each type of galaxy for the entire dataset."
   ]
  },
  {
   "cell_type": "code",
   "execution_count": null,
   "metadata": {
    "collapsed": false
   },
   "outputs": [],
   "source": [
    "#.mean()\n"
   ]
  },
  {
   "cell_type": "code",
   "execution_count": null,
   "metadata": {
    "collapsed": false
   },
   "outputs": [],
   "source": [
    "#.sum()\n"
   ]
  },
  {
   "cell_type": "markdown",
   "metadata": {},
   "source": [
    "# Indexing & Slicing in Python\n",
    "\n",
    "We often want to work with subsets of a **DataFrame** object. There are\n",
    "different ways to accomplish this including: using labels (ie, column headings - as used previously),\n",
    "numeric ranges or specific x,y index locations.\n",
    "\n",
    "## Extracting Range based Subsets: Slicing\n",
    "\n",
    "**REMINDER**: Python Uses 0-based Indexing\n",
    "\n",
    "Let's remind ourselves that Python uses 0-based\n",
    "indexing. This means that the first element in an object is located at position\n",
    "0. This is different from other tools like R and Matlab that index elements\n",
    "within objects starting at 1.\n",
    "\n",
    "```python\n",
    "# Create a list of numbers:\n",
    "a = [1,2,3,4,5]\n",
    "```\n",
    "\n",
    "[indexing diagram](https://github.com/datacarpentry/python-ecology-lesson/blob/gh-pages/fig/slicing-indexing.svg)\n",
    "\n",
    "[slicing diagram](https://github.com/datacarpentry/python-ecology-lesson/tree/gh-pages/fig/slicing-slicing.svg)\n"
   ]
  },
  {
   "cell_type": "code",
   "execution_count": null,
   "metadata": {
    "collapsed": true
   },
   "outputs": [],
   "source": [
    "a = [1,2,3,4,5]"
   ]
  },
  {
   "cell_type": "code",
   "execution_count": null,
   "metadata": {
    "collapsed": false
   },
   "outputs": [],
   "source": [
    "a[0]"
   ]
  },
  {
   "cell_type": "code",
   "execution_count": null,
   "metadata": {
    "collapsed": false
   },
   "outputs": [],
   "source": [
    "a[5]"
   ]
  },
  {
   "cell_type": "markdown",
   "metadata": {},
   "source": [
    "## Slicing Subsets of Rows in Python\n",
    "\n",
    "Slicing using the `[]` operator selects a set of rows and/or columns from a\n",
    "DataFrame. To slice out a set of rows, you use the following syntax:\n",
    "`data[start:stop]`. When slicing in pandas the start bound is included in the\n",
    "output. The stop bound is one step BEYOND the row you want to select. So if you\n",
    "want to select rows 0, 1 and 2 your code would look like this:\n",
    "\n",
    "```python\n",
    "# select rows 0,1,2 (but not 3)\n",
    "gal_df[0:3]\n",
    "```\n",
    "\n",
    "The stop bound in Python is different from what you might be used to in\n",
    "languages like Matlab and R.\n",
    "\n",
    "```python\n",
    "# select the first, second and third rows from the surveys variable\n",
    "gal_df[0:3]\n",
    "# select the first 5 rows (rows 0,1,2,3,4)\n",
    "gal_df[:5]\n",
    "# select the last element in the list\n",
    "gal_df[-1:]\n",
    "```"
   ]
  },
  {
   "cell_type": "code",
   "execution_count": null,
   "metadata": {
    "collapsed": false
   },
   "outputs": [],
   "source": [
    "gal_df[0:5:2]"
   ]
  },
  {
   "cell_type": "markdown",
   "metadata": {},
   "source": [
    "We can also reassign values within subsets of our DataFrame. But before we do that, let's make a \n",
    "copy of our DataFrame so as not to modify our original imported data. \n",
    "\n",
    "```python\n",
    "# copy the surveys dataframe so we don't modify the original DataFrame\n",
    "gal_copy = gal_df\n",
    "\n",
    "# set the first three rows of data in the DataFrame to 0\n",
    "gal_copy[0:3] = 0\n",
    "```\n",
    "\n",
    "Next, try the following code: \n",
    "\n",
    "```python\n",
    "gal_copy.head()\n",
    "gal_df.head()\n",
    "```\n",
    "What is the difference between the two data frames?"
   ]
  },
  {
   "cell_type": "code",
   "execution_count": null,
   "metadata": {
    "collapsed": true
   },
   "outputs": [],
   "source": [
    "gal_copy = gal_df\n",
    "gal_copy[0:3] = 0"
   ]
  },
  {
   "cell_type": "code",
   "execution_count": null,
   "metadata": {
    "collapsed": false
   },
   "outputs": [],
   "source": [
    "gal_copy.head()"
   ]
  },
  {
   "cell_type": "code",
   "execution_count": null,
   "metadata": {
    "collapsed": false
   },
   "outputs": [],
   "source": [
    "gal_df.head()"
   ]
  },
  {
   "cell_type": "markdown",
   "metadata": {},
   "source": [
    "## Referencing Objects vs Copying Objects in Python\n",
    "\n",
    "We might have thought that we were creating a fresh copy of the `gal_df` objects when we \n",
    "used the code `surveys_copy = gal_df`. However the statement  y = x doesn’t create a copy of our DataFrame. \n",
    "It creates a new variable y that refers to the **same** object x refers to. This means that there is only one object \n",
    "(the DataFrame), and both x and y refer to it. So when we assign the first 3 columns the value of 0 using the \n",
    "`surveys_copy` DataFrame, the `gal_df` DataFrame is modified too. To create a fresh copy of the `gal_df`\n",
    "DataFrame we use the syntax y=x.copy(). But before we have to read the gal_df again because the current version contains the unintentional changes made to the first 3 columns.\n",
    "\n",
    "```python\n",
    "gal_df = pd.read_csv(\"GalaxyZoo1.csv\")\n",
    "gal_copy= gal_df.copy()\n",
    "\n",
    "```"
   ]
  },
  {
   "cell_type": "code",
   "execution_count": null,
   "metadata": {
    "collapsed": false
   },
   "outputs": [],
   "source": [
    "#read data back in and check it's correct\n",
    "gal_df = pd.read_csv(\"GalaxyZoo1.csv\")\n",
    "gal_df.head()"
   ]
  },
  {
   "cell_type": "code",
   "execution_count": null,
   "metadata": {
    "collapsed": false
   },
   "outputs": [],
   "source": [
    "#copy data frame and check the copy\n",
    "gal_copy= gal_df.copy()\n",
    "gal_copy.head()"
   ]
  },
  {
   "cell_type": "code",
   "execution_count": null,
   "metadata": {
    "collapsed": false
   },
   "outputs": [],
   "source": [
    "#modify copy and check both copy and original to see changes\n",
    "gal_copy[0:3] = 0\n",
    "print(gal_copy.head())\n",
    "print(gal_df.head())"
   ]
  },
  {
   "cell_type": "markdown",
   "metadata": {},
   "source": [
    "## Slicing Subsets of Rows and Columns in Python\n",
    "\n",
    "We can select specific ranges of our data in both the row and column directions\n",
    "using either label or integer-based indexing.\n",
    "\n",
    "- `loc`: indexing via *labels* (which can be integers)\n",
    "- `iloc`: indexing via *integers*\n",
    "\n",
    "To select a subset of rows AND columns from our DataFrame, we can use the `iloc`\n",
    "method. For example, we can select month, day and year (columns 2, 3 and 4 if we\n",
    "start counting at 1), like this:\n",
    "\n",
    "```python\n",
    "gal_df.iloc[0:3, 1:4]\n",
    "```"
   ]
  },
  {
   "cell_type": "code",
   "execution_count": null,
   "metadata": {
    "collapsed": false
   },
   "outputs": [],
   "source": [
    "gal_df.iloc[0:3, 1:4]"
   ]
  },
  {
   "cell_type": "markdown",
   "metadata": {},
   "source": [
    "Notice that we asked for a slice from 0:3. This yielded 3 rows of data. When you\n",
    "ask for 0:3, you are actually telling python to start at index 0 and select rows\n",
    "0, 1, 2 **up to but not including 3**.\n",
    "\n",
    "\n",
    "Let's next explore some other ways to index and select subsets of data:"
   ]
  },
  {
   "cell_type": "code",
   "execution_count": null,
   "metadata": {
    "collapsed": false
   },
   "outputs": [],
   "source": [
    "# select all columns for rows of index values 0 and 10\n",
    "gal_df.loc[[0, 10], :]"
   ]
  },
  {
   "cell_type": "code",
   "execution_count": null,
   "metadata": {
    "collapsed": false
   },
   "outputs": [],
   "source": [
    "# what does this do?\n",
    "gal_df.loc[0, ['id', 'p_e', 'p_s']]\n"
   ]
  },
  {
   "cell_type": "code",
   "execution_count": 101,
   "metadata": {
    "collapsed": false
   },
   "outputs": [
    {
     "data": {
      "text/html": [
       "<div>\n",
       "<table border=\"1\" class=\"dataframe\">\n",
       "  <thead>\n",
       "    <tr style=\"text-align: right;\">\n",
       "      <th></th>\n",
       "      <th>id</th>\n",
       "      <th>ra</th>\n",
       "      <th>dec</th>\n",
       "      <th>nvote</th>\n",
       "      <th>p_e</th>\n",
       "      <th>p_s</th>\n",
       "      <th>type</th>\n",
       "      <th>class</th>\n",
       "    </tr>\n",
       "  </thead>\n",
       "  <tbody>\n",
       "    <tr>\n",
       "      <th>0</th>\n",
       "      <td>5.877272e+17</td>\n",
       "      <td>00:10:51.39</td>\n",
       "      <td>-10:46:18.9</td>\n",
       "      <td>30.0</td>\n",
       "      <td>0.200</td>\n",
       "      <td>0.300</td>\n",
       "      <td>U</td>\n",
       "      <td>U</td>\n",
       "    </tr>\n",
       "    <tr>\n",
       "      <th>10</th>\n",
       "      <td>5.877272e+17</td>\n",
       "      <td>00:01:49.53</td>\n",
       "      <td>+14:26:22.9</td>\n",
       "      <td>29.0</td>\n",
       "      <td>0.517</td>\n",
       "      <td>0.407</td>\n",
       "      <td>U</td>\n",
       "      <td>U</td>\n",
       "    </tr>\n",
       "    <tr>\n",
       "      <th>669946</th>\n",
       "      <td>NaN</td>\n",
       "      <td>NaN</td>\n",
       "      <td>NaN</td>\n",
       "      <td>NaN</td>\n",
       "      <td>NaN</td>\n",
       "      <td>NaN</td>\n",
       "      <td>NaN</td>\n",
       "      <td>NaN</td>\n",
       "    </tr>\n",
       "  </tbody>\n",
       "</table>\n",
       "</div>"
      ],
      "text/plain": [
       "                  id           ra          dec  nvote    p_e    p_s type class\n",
       "0       5.877272e+17  00:10:51.39  -10:46:18.9   30.0  0.200  0.300    U     U\n",
       "10      5.877272e+17  00:01:49.53  +14:26:22.9   29.0  0.517  0.407    U     U\n",
       "669946           NaN          NaN          NaN    NaN    NaN    NaN  NaN   NaN"
      ]
     },
     "execution_count": 101,
     "metadata": {},
     "output_type": "execute_result"
    }
   ],
   "source": [
    "# What happens when you type the code below?\n",
    "gal_df.loc[[0, 10, 669946], :]"
   ]
  },
  {
   "cell_type": "markdown",
   "metadata": {},
   "source": [
    "NOTE: Labels must be found in the DataFrame or you will get a `KeyError`. The\n",
    "start bound and the stop bound are **included**.  When using `loc`, integers\n",
    "*can* also be used, but they refer to the **index label** and not the position. Thus\n",
    "when you use `loc`, and select 1:4, you will get a different result than using\n",
    "`iloc` to select rows 1:4.\n",
    "\n",
    "We can also select a specific data value according to the specific row and\n",
    "column location within the data frame using the `iloc` function:\n",
    "`dat.iloc[row,column]`.\n",
    "\n",
    "\n",
    "```python\n",
    "gal_df.iloc[2,6]\n",
    "```\n",
    "Remember that Python indexing begins at 0. So, the index location [2, 6] selects\n",
    "the element that is 3 rows down and 7 columns over in the DataFrame.\n",
    "\n",
    "## Challenge Activities\n",
    "\n",
    "1. What happens when you type:\n",
    "\t- gal_df[0:4]\n",
    "\t- gal_df[:5]\n",
    "\t- gal_df[-1:]\n",
    "\n",
    "2. What happens when you call:\n",
    "    - `dat.iloc[0:4,]`\n",
    "    - `dat.loc[0:4,]`\n",
    "    - How are the two commands different?"
   ]
  },
  {
   "cell_type": "code",
   "execution_count": null,
   "metadata": {
    "collapsed": false
   },
   "outputs": [],
   "source": [
    "gal_df.iloc[0:4,]"
   ]
  },
  {
   "cell_type": "code",
   "execution_count": null,
   "metadata": {
    "collapsed": false
   },
   "outputs": [],
   "source": [
    "gal_df.loc[0:4, ]"
   ]
  },
  {
   "cell_type": "code",
   "execution_count": null,
   "metadata": {
    "collapsed": true
   },
   "outputs": [],
   "source": []
  },
  {
   "cell_type": "markdown",
   "metadata": {},
   "source": [
    "## Subsetting Data Using Criteria & Making Masks\n",
    "\n",
    "A mask can be useful to locate where a particular subset of values exist or\n",
    "don't exist - for example,  NaN, or \"Not a Number\" values. To understand masks,\n",
    "we also need to understand `BOOLEAN` objects in python.\n",
    "\n",
    "Boolean values include `true` or `false`. So for example\n",
    "\n",
    "```python\n",
    "# set x to 5\n",
    "x = 5\n",
    "# what does the code below return?\n",
    "x > 5\n",
    "# how about this?\n",
    "x == 5\n",
    "```\n",
    "When we ask python what the value of `x > 5` is, we get `False`. This is because x\n",
    "is not greater than 5 it is equal to 5. To create a boolean mask, you first create the\n",
    "True / False criteria (e.g. values > 5 = True). Python will then assess each\n",
    "value in the object to determine whether the value meets the criteria (True) or\n",
    "not (False). Python creates an output object that is the same shape as\n",
    "the original object, but with a True or False value for each index location.\n",
    "\n",
    "You can use the syntax below when querying data from a DataFrame. Experiment\n",
    "with selecting various subsets of the \"surveys\" data.\n",
    "\n",
    "* Equals: `==`\n",
    "* Not equals: `!=`\n",
    "* Greater than, less than: `>` or `<`\n",
    "* Greater than or equal to `>=`\n",
    "* Less than or equal to `<=`\n",
    "\n",
    "Let's try this out. \n",
    "We can select all rows that have 80 votes."
   ]
  },
  {
   "cell_type": "code",
   "execution_count": null,
   "metadata": {
    "collapsed": false
   },
   "outputs": [],
   "source": [
    "gal_df[gal_df.nvote == 80]"
   ]
  },
  {
   "cell_type": "code",
   "execution_count": null,
   "metadata": {
    "collapsed": false
   },
   "outputs": [],
   "source": [
    "#Or we can select all rows that do not contain 80 votes.\n",
    "gal_df[gal_df.nvote != 80]"
   ]
  },
  {
   "cell_type": "code",
   "execution_count": null,
   "metadata": {
    "collapsed": false
   },
   "outputs": [],
   "source": [
    "#We can define sets of criteria too:\n",
    "gal_df[(gal_df.nvote >= 80) & (gal_df.nvote <= 100)]"
   ]
  },
  {
   "cell_type": "markdown",
   "metadata": {},
   "source": [
    "Next, let's identify all locations in the survey data that have\n",
    "null (missing or NaN) data values. We can use the `isnull` method to do this.\n",
    "Each cell with a null value will be assigned a value of  `True` in the new\n",
    "boolean object."
   ]
  },
  {
   "cell_type": "code",
   "execution_count": null,
   "metadata": {
    "collapsed": false
   },
   "outputs": [],
   "source": [
    "pd.isnull(gal_df)"
   ]
  },
  {
   "cell_type": "markdown",
   "metadata": {},
   "source": [
    "To select the rows where there are null values,  we can use \n",
    "the mask as an index to subset our data as follows:\n",
    "\n",
    "```python\n",
    "#To select just the rows with NaN values, we can use the .any method\n",
    "gal_df[pd.isnull(gal_df).any(axis=1)]\n",
    "```\n",
    "\n",
    "We can run isnull on a particular column too. What does the code below do?\n",
    "\n",
    "```python\n",
    "# what does this do?\n",
    "empty_pE = gal_df[pd.isnull(gal_df['p_e'])\n",
    "```\n",
    "\n",
    "Let's take a minute to look at the statement above. \n",
    "\n",
    "We are using the Boolean object as an index. \n",
    "We are asking python to select rows that have a `NaN` value for the probability of a galaxy being Elliptical."
   ]
  },
  {
   "cell_type": "code",
   "execution_count": null,
   "metadata": {
    "collapsed": false
   },
   "outputs": [],
   "source": [
    "gal_df[pd.isnull(gal_df).any(axis=1)]"
   ]
  },
  {
   "cell_type": "code",
   "execution_count": null,
   "metadata": {
    "collapsed": false
   },
   "outputs": [],
   "source": [
    "empty_pE = gal_df[~pd.isnull(gal_df['p_e'])]\n",
    "empty_pE.describe()"
   ]
  },
  {
   "cell_type": "markdown",
   "metadata": {},
   "source": [
    "### Challenge Activities\n",
    "\n",
    "1. You can use the `isin` command in python to query a DataFrame based upon a list of values as follows:\n",
    "   `gal_df[gal_df['class'].isin([listGoesHere])]`. Use the `isin` function to find all galaxies Elliptical galaxies of class E0, E1 and E7. How many records contain these values?\n",
    "2. The `~` symbol in Python can be used to return the OPPOSITE of the selection that you specify in python. It is equivalent to **is not in**. Write a query that selects all Spiral galaxies that are not classed as 'OTHER' an 'EDGE'.\n",
    "3. Create a new DataFrame that only contains valid (i.e. no NAN probability) observations of Spiral galaxies with over 100 votes."
   ]
  },
  {
   "cell_type": "code",
   "execution_count": null,
   "metadata": {
    "collapsed": false
   },
   "outputs": [],
   "source": [
    "# challenge 1 -> count of E0,E1,E7"
   ]
  },
  {
   "cell_type": "code",
   "execution_count": null,
   "metadata": {
    "collapsed": false
   },
   "outputs": [],
   "source": [
    "#challenge 2 -> all spirals that are not OTHER or EDGE"
   ]
  },
  {
   "cell_type": "code",
   "execution_count": null,
   "metadata": {
    "collapsed": true
   },
   "outputs": [],
   "source": [
    "#challenge 3 -> spiral probaility is column 'p_s'"
   ]
  },
  {
   "cell_type": "code",
   "execution_count": null,
   "metadata": {
    "collapsed": false
   },
   "outputs": [],
   "source": []
  },
  {
   "cell_type": "markdown",
   "metadata": {},
   "source": [
    "# Merging DataFrames\n",
    "\n",
    "\n",
    "In many \"real world\" situations, the data that we want to use come in multiple\n",
    "files. We often need to combine these files into a single DataFrame to analyze\n",
    "the data. The pandas package provides [various methods for combining\n",
    "DataFrames](http://pandas.pydata.org/pandas-docs/stable/merging.html) including\n",
    "`merge` and `concat`.\n",
    "\n",
    "To work through the examples below, we first need to load the galaxy zoo and\n",
    "SDSS files into pandas DataFrames. In iPython:\n",
    "\n",
    "``` python\n",
    "import pandas as pd\n",
    "gal_df = pd.read_csv('GalaxyZooSub.csv',\n",
    "                         keep_default_na=False, na_values=[\"NA\"])\n",
    "sdss = pd.read_csv('SDSS_blue_centre_query.csv',\n",
    "                         keep_default_na=False, na_values=[\"\"])\n",
    "gal_df.dtypes\n",
    "sdss.dtypes\n",
    "```"
   ]
  },
  {
   "cell_type": "code",
   "execution_count": null,
   "metadata": {
    "collapsed": false
   },
   "outputs": [],
   "source": [
    "import pandas as pd\n",
    "gal_df = pd.read_csv('GalaxyZooSub.csv',\n",
    "                         keep_default_na=False, na_values=[\"NA\"])\n",
    "sdss = pd.read_csv('SDSS_blue_centre_query.csv',\n",
    "                         keep_default_na=False, na_values=[\"\"])"
   ]
  },
  {
   "cell_type": "code",
   "execution_count": null,
   "metadata": {
    "collapsed": false
   },
   "outputs": [],
   "source": [
    "gal_df.dtypes"
   ]
  },
  {
   "cell_type": "code",
   "execution_count": null,
   "metadata": {
    "collapsed": false
   },
   "outputs": [],
   "source": [
    "sdss.dtypes"
   ]
  },
  {
   "cell_type": "markdown",
   "metadata": {},
   "source": [
    "Take note that the `read_csv` method we used can take some additional options which\n",
    "we didn't use previously. Many functions in python have a set of options that\n",
    "can be set by the user if needed. In this case, we have told Pandas to assign\n",
    "empty values in our CSV to NaN `keep_default_na=False, na_values=[\"\"]`.\n",
    "[http://pandas.pydata.org/pandas-docs/dev/generated/pandas.io.parsers.read_csv.html](More\n",
    "about all of the read_csv options here.)\n"
   ]
  },
  {
   "cell_type": "markdown",
   "metadata": {},
   "source": [
    "## Concatinating\n",
    "\n",
    "We can use the `concat` function in Pandas to append either columns or rows from\n",
    "one DataFrame to another.  Let's grab two subsets of our data to see how this\n",
    "works.\n"
   ]
  },
  {
   "cell_type": "code",
   "execution_count": null,
   "metadata": {
    "collapsed": false
   },
   "outputs": [],
   "source": [
    "# read in first 10 lines of gal_df table\n",
    "gal_sub=gal_df.head(10)\n",
    "gal_sub"
   ]
  },
  {
   "cell_type": "code",
   "execution_count": null,
   "metadata": {
    "collapsed": false
   },
   "outputs": [],
   "source": [
    "# grab the last 10 rows (minus the last one)\n",
    "gal_last10=gal_df[-11:-1]\n",
    "gal_last10"
   ]
  },
  {
   "cell_type": "code",
   "execution_count": null,
   "metadata": {
    "collapsed": false
   },
   "outputs": [],
   "source": [
    "#reset the index values to the second dataframe appends properly\n",
    "# drop=True option avoids adding new index column with old index values\n",
    "gal_last10 = gal_last10.reset_index(drop=True)\n",
    "gal_last10"
   ]
  },
  {
   "cell_type": "markdown",
   "metadata": {},
   "source": [
    "When we concatenate DataFrames, we need to specify the axis. `axis=0` tells\n",
    "Pandas to stack the second DataFrame under the first one. It will automatically\n",
    "detect whether the column names are the same and will stack accordingly.\n",
    "`axis=1` will stack the columns in the second DataFrame to the RIGHT of the\n",
    "first DataFrame. To stack the data vertically, we need to make sure we have the\n",
    "same columns and associated column format in both datasets. When we stack\n",
    "horizonally, we want to make sure what we are doing makes sense (ie the data are\n",
    "related in some way).\n"
   ]
  },
  {
   "cell_type": "code",
   "execution_count": null,
   "metadata": {
    "collapsed": false
   },
   "outputs": [],
   "source": [
    "# stack the DataFrames on top of each other\n",
    "vertical_stack = pd.concat([gal_sub,gal_last10], axis=0)\n",
    "vertical_stack"
   ]
  },
  {
   "cell_type": "code",
   "execution_count": null,
   "metadata": {
    "collapsed": false
   },
   "outputs": [],
   "source": [
    "# place the DataFrames side by side\n",
    "horizontal_stack = pd.concat([gal_sub,gal_last10], axis=1)\n",
    "horizontal_stack"
   ]
  },
  {
   "cell_type": "markdown",
   "metadata": {},
   "source": [
    "### Challenge - Row Index Values and Concat\n",
    "Have a look at the `vertical_stack` dataframe? Notice anything unusual?\n",
    "The row indexes for the two data frames `survey_sub` and `survey_sub_last10`\n",
    "have been repeated. We can reindex the new dataframe using the `reset_index()` method."
   ]
  },
  {
   "cell_type": "code",
   "execution_count": null,
   "metadata": {
    "collapsed": false
   },
   "outputs": [],
   "source": [
    "vertical_stack=vertical_stack.reset_index(drop=True)\n",
    "vertical_stack"
   ]
  },
  {
   "cell_type": "markdown",
   "metadata": {},
   "source": [
    "## Writing Out Data to CSV\n",
    "\n",
    "We can use the `to_csv` command to do export a DataFrame in CSV format. Note that the code\n",
    "below will by default save the data into the current working directory. We can\n",
    "save it to a different folder by adding the foldername and a slash to the file\n",
    "`vertical_stack.to_csv('foldername/out.csv')`.\n",
    "\n",
    "```python\n",
    "# Write DataFrame to CSV \n",
    "vertical_stack.to_csv('out.csv')\n",
    "```\n",
    "\n",
    "Check out your working directory to make sure the CSV wrote out properly, and\n",
    "that you can open it! If you want, try to bring it back into python to make sure\n",
    "it imports properly.\n",
    "\n",
    "```python\t\n",
    "# for kicks read our output back into python and make sure all looks good\n",
    "new_output = pd.read_csv('out.csv', keep_default_na=False, na_values=[\"NA\"])\n",
    "```"
   ]
  },
  {
   "cell_type": "code",
   "execution_count": null,
   "metadata": {
    "collapsed": true
   },
   "outputs": [],
   "source": [
    "vertical_stack.to_csv('out.csv')"
   ]
  },
  {
   "cell_type": "markdown",
   "metadata": {},
   "source": [
    "# Joining DataFrames\n",
    "\n",
    "When we concatenated our DataFrames we simply added them to each other -\n",
    "stacking them either vertically or side by side. Another way to combine\n",
    "DataFrames is to use columns in each dataset that contain common values (a\n",
    "common unique id). Combining DataFrames using a common field is called\n",
    "\"joining\". The columns containing the common values are called \"join key(s)\".\n",
    "Joining DataFrames in this way is often useful when one DataFrame is a \"lookup\n",
    "table\" containing additional data that we want to include in the other. \n",
    "\n",
    "For example, the `SDSS_blue_centre_query.csv` file that we've been loaded is a query from the SDSS DR7 database for 1000 galaxies with blue centres (things we would expect to be Spirals). \n",
    "This table contains the ID, postition, redshift and r-band magnitude as well as size measurements.\n",
    "\n",
    "## Joining Two DataFrames \n",
    "\n",
    "### Identifying join keys\n",
    "\n",
    "To identify appropriate join keys we first need to know which field(s) are\n",
    "shared between the files (DataFrames). We might inspect both DataFrames to\n",
    "identify these columns. If we are lucky, both DataFrames will have columns with\n",
    "the same name that also contain the same data. If we are less lucky, we need to\n",
    "identify a (differently-named) column in each DataFrame that contains the same\n",
    "information.\n",
    "\n",
    "Check the column names for gal_df and sdss"
   ]
  },
  {
   "cell_type": "code",
   "execution_count": null,
   "metadata": {
    "collapsed": false
   },
   "outputs": [],
   "source": [
    "print(gal_df.columns.values)\n",
    "print(sdss.columns.values)\n"
   ]
  },
  {
   "cell_type": "markdown",
   "metadata": {},
   "source": [
    "In our example, the join key is the column containing the object\n",
    "identifier. We could also use 'ra' and 'dec', however, they are not presented in the same units thus joining on id will be esier.\n",
    "\n",
    "There are [different types of joins](http://blog.codinghorror.com/a-visual-explanation-of-sql-joins/), so we\n",
    "also need to decide which type of join makes sense for our analysis.\n",
    "\n",
    "## Inner joins\n",
    "\n",
    "The most common type of join is called an _inner join_. An inner join combines\n",
    "two DataFrames based on a join key and returns a new DataFrame that contains\n",
    "**only** those rows that have matching values in *both* of the original\n",
    "DataFrames. \n",
    "\n",
    "Inner joins yield a DataFrame that contains only rows where the value being\n",
    "joins exists in BOTH tables. An example of an inner join, adapted from [this\n",
    "page](http://blog.codinghorror.com/a-visual-explanation-of-sql-joins/) is below:\n",
    "\n",
    "![Inner join -- courtesy of codinghorror.com](http://blog.codinghorror.com/content/images/uploads/2007/10/6a0120a85dcdae970b012877702708970c-pi.png)\n",
    "\n",
    "The pandas function for performing joins is called `merge` and an inner join is\n",
    "the default option:  "
   ]
  },
  {
   "cell_type": "code",
   "execution_count": null,
   "metadata": {
    "collapsed": false
   },
   "outputs": [],
   "source": [
    "merged_inner = pd.merge(left=gal_df,right=sdss, left_on='id', \n",
    "                        right_on='objID')\n",
    "# if both column names were 'id', we could skip the `left_on`\n",
    "# and `right_on` arguments and still get the same result"
   ]
  },
  {
   "cell_type": "code",
   "execution_count": null,
   "metadata": {
    "collapsed": false
   },
   "outputs": [],
   "source": [
    "# what's the size of the output data?\n",
    "merged_inner.shape"
   ]
  },
  {
   "cell_type": "code",
   "execution_count": null,
   "metadata": {
    "collapsed": false
   },
   "outputs": [],
   "source": [
    "merged_inner"
   ]
  },
  {
   "cell_type": "markdown",
   "metadata": {},
   "source": [
    "The result of an inner join of `gal_df` and `sdss` is a new DataFrame\n",
    "that contains the combined set of columns from `gal_df` and `sdss`. It\n",
    "*only* contains rows that have an ID that is the same in\n",
    "both the `gal_df` and `sdss` DataFrames. \n",
    "\n",
    "In other words, if a row in\n",
    "`gal_df` has a value of `id` that does *not* appear in the `objID`\n",
    "column of `sdss`, it will not be included in the DataFrame returned by an\n",
    "inner join.  Similarly, if a row in `sdss` has a value of `objID`\n",
    "that does *not* appear in the `id` column of `gal_df`, that row will not\n",
    "be included in the DataFrame returned by an inner join.\n",
    "\n",
    "The two DataFrames that we want to join are passed to the `merge` function using\n",
    "the `left` and `right` argument. The `left_on='id'` argument tells `merge`\n",
    "to use the `id` column as the join key from `gal_df` (the `left`\n",
    "DataFrame). Similarly , the `right_on='objID'` argument tells `merge` to\n",
    "use the `objID` column as the join key from `sdss` (the `right`\n",
    "DataFrame). For inner joins, the order of the `left` and `right` arguments does\n",
    "not matter.\n",
    "\n",
    "The result `merged_inner` DataFrame contains all of the columns from `survey_sub` as well as all the columns from `sdss`.\n",
    "\n",
    "Notice that `merged_inner` has way fewer rows than `gal_df`. This is an\n",
    "indication that there were rows in `gal_df` with value(s) for `id` that\n",
    "do not exist as value(s) for `objID` in `sdss`.\n",
    " \n",
    "## Left joins\n",
    "\n",
    "What if we want to add information from `sdss` to `gal_df` without\n",
    "losing any of the information from `gal_df`? In this case, we use a different\n",
    "type of join called a \"left outer join\", or a \"left join\".\n",
    "\n",
    "Like an inner join, a left join uses join keys to combine two DataFrames. Unlike\n",
    "an inner join, a left join will return *all* of the rows from the `left`\n",
    "DataFrame, even those rows whose join key(s) do not have values in the `right`\n",
    "DataFrame.  Rows in the `left` DataFrame that are missing values for the join\n",
    "key(s) in the `right` DataFrame will simply have null (i.e., NaN or None) values\n",
    "for those columns in the resulting joined DataFrame.\n",
    "\n",
    "Note: a left join will still discard rows from the `right` DataFrame that do not\n",
    "have values for the join key(s) in the `left` DataFrame.\n",
    "\n",
    "![Left Join](http://blog.codinghorror.com/content/images/uploads/2007/10/6a0120a85dcdae970b01287770273e970c-pi.png)\n",
    "\n",
    "A left join is performed in pandas by calling the same `merge` function used for\n",
    "inner join, but using the `how='left'` argument:"
   ]
  },
  {
   "cell_type": "code",
   "execution_count": null,
   "metadata": {
    "collapsed": false
   },
   "outputs": [],
   "source": [
    "merged_left = pd.merge(left=gal_df,right=sdss, left_on='id', \n",
    "                       right_on='objID', how='left')\n",
    "\n",
    "merged_left"
   ]
  },
  {
   "cell_type": "markdown",
   "metadata": {},
   "source": [
    "The result DataFrame from a left join (`merged_left`) looks very much like the\n",
    "result DataFrame from an inner join (`merged_inner`) in terms of the columns it\n",
    "contains. However, unlike `merged_inner`, `merged_left` contains the **same\n",
    "number of rows** as the original `gal_df` DataFrame. When we inspect\n",
    "`merged_left`, we find there are rows where the information that should have\n",
    "come from `sdss` (e.g., `z`, `r`, and `expRad_r`) is\n",
    "missing (they contain NaN values):"
   ]
  },
  {
   "cell_type": "code",
   "execution_count": null,
   "metadata": {
    "collapsed": false
   },
   "outputs": [],
   "source": [
    "len(merged_left[ pd.isnull(merged_left.z) ])\n"
   ]
  },
  {
   "cell_type": "markdown",
   "metadata": {},
   "source": [
    "These rows are the ones where the value of `id` from `sdss` does not occur in `gal_df`.\n",
    "\n",
    "\n",
    "## Other join types\n",
    "\n",
    "The pandas `merge` function supports two other join types:\n",
    "\n",
    "* Right (outer) join: Invoked by passing `how='right'` as an argument. Similar\n",
    "  to a left join, except *all* rows from the `right` DataFrame are kept, while\n",
    "  rows from the `left` DataFrame without matching join key(s) values are\n",
    "  discarded.\n",
    "* Full (outer) join: Invoked by passing `how='outer'` as an argument. This join\n",
    "  type returns the all pairwise combinations of rows from both DataFrames; i.e.,\n",
    "  the result DataFrame will `NaN` where data is missing in one of the dataframes. This join type is\n",
    "  very rarely used.\n"
   ]
  },
  {
   "cell_type": "code",
   "execution_count": null,
   "metadata": {
    "collapsed": true
   },
   "outputs": [],
   "source": []
  },
  {
   "cell_type": "code",
   "execution_count": null,
   "metadata": {
    "collapsed": true
   },
   "outputs": [],
   "source": []
  },
  {
   "cell_type": "markdown",
   "metadata": {},
   "source": [
    "# Automating data processing using For Loops\n",
    "\n",
    "So far, we've used Python and the pandas library to explore and manipulate\n",
    "individual datasets by hand, much like we would do in a spreadsheet. The beauty\n",
    "of using a programming language like Python, though, comes from the ability to\n",
    "automate data processing through the use of loops and functions.\n",
    "\n",
    "## For loops\n",
    "\n",
    "Loops allow us to repeat a workflow (or series of actions) a given number of\n",
    "times or while some condition is true. We would use a loop to automatically\n",
    "process data that's stored in multiple files (daily values with one file per\n",
    "year, for example). Loops lighten our work load by performing repeated tasks\n",
    "without our direct involvement and make it less likely that we'll introduce\n",
    "errors by making mistakes while processing each file by hand.\n",
    "\n",
    "Let's write a simple for loop that simulates what a kid might see during a\n",
    "visit to the zoo:"
   ]
  },
  {
   "cell_type": "code",
   "execution_count": null,
   "metadata": {
    "collapsed": true
   },
   "outputs": [],
   "source": [
    "animals = ['lion','tiger','crocodile','vulture','hippo']\n",
    "print(animals)"
   ]
  },
  {
   "cell_type": "code",
   "execution_count": null,
   "metadata": {
    "collapsed": true
   },
   "outputs": [],
   "source": [
    "for creatures in animals:\n",
    "    print(creatures)"
   ]
  },
  {
   "cell_type": "markdown",
   "metadata": {},
   "source": [
    "The line defining the loop must start with `for` and end with a colon, and the\n",
    "body of the loop must be indented.\n",
    "\n",
    "In this example, `creature` is the loop variable that takes the value of the next\n",
    "entry in `animals` every time the loop goes around. We can call the loop variable\n",
    "anything we like. After the loop finishes, the loop variable will still exist\n",
    "and will have the value of the last entry in the collection:"
   ]
  },
  {
   "cell_type": "code",
   "execution_count": null,
   "metadata": {
    "collapsed": true
   },
   "outputs": [],
   "source": [
    "for creatures in animals:\n",
    "    pass"
   ]
  },
  {
   "cell_type": "code",
   "execution_count": null,
   "metadata": {
    "collapsed": true
   },
   "outputs": [],
   "source": [
    "creatures"
   ]
  },
  {
   "cell_type": "markdown",
   "metadata": {},
   "source": [
    "We are not asking python to print the value of the loop variable anymore, but\n",
    "the for loop still runs and the value of `creature` changes on each pass through\n",
    "the loop. The statement `pass` in the body of the loop just means \"do nothing\".\n"
   ]
  },
  {
   "cell_type": "markdown",
   "metadata": {},
   "source": [
    "The file we've been using so far, `GalaxyZoo1.csv`, contains 10s of 1000s of observations and\n",
    "very large. We would like to separate the data for each galaxy class.\n",
    "\n",
    "Let's start by making a new directory inside the folder `data` to store all of\n",
    "these files using the module `os`:"
   ]
  },
  {
   "cell_type": "code",
   "execution_count": null,
   "metadata": {
    "collapsed": true
   },
   "outputs": [],
   "source": [
    "os.mkdir(\"gals_by_class\")"
   ]
  },
  {
   "cell_type": "markdown",
   "metadata": {},
   "source": [
    "The command `os.mkdir` is equivalent to `mkdir` in the shell. Just so we are\n",
    "sure, we can check that the new directory was created within the `data` folder:"
   ]
  },
  {
   "cell_type": "code",
   "execution_count": null,
   "metadata": {
    "collapsed": false
   },
   "outputs": [],
   "source": [
    "os.listdir(\".\")"
   ]
  },
  {
   "cell_type": "markdown",
   "metadata": {},
   "source": [
    "The command `os.listdir` is equivalent to `ls` in the shell.\n",
    "\n",
    "Previously, we saw how to use the library pandas to load the species\n",
    "data into memory as a DataFrame, how to select a subset of the data using some\n",
    "criteria, and how to write the DataFrame into a csv file. Let's write a script\n",
    "that performs those three steps in sequence for selecting clockwise spirals:\n",
    "\n",
    "```python\n",
    "import pandas as pd\n",
    "\n",
    "# Load the data into a DataFrame\n",
    "gal_df = pd.read_csv('GalaxyZoo1.csv',\n",
    "                         keep_default_na=False, na_values=[\"NA\"])\n",
    "\n",
    "# Select only clockwise spirals\n",
    "cw_gals = gal_df[gal_df.class == 'CW']\n",
    "\n",
    "# Write the new DataFrame to a csv file\n",
    "cw_gals.to_csv('gals_by_class/cw_gals.csv')\n",
    "```\n",
    "\n",
    "To create files for each class, we could repeat the last two commands over and\n",
    "over, once for each class of galaxy. Repeating code is neither elegant nor\n",
    "practical, and is very likely to introduce errors into your code. We want to\n",
    "turn what we've just written into a loop that repeats the last two commands for\n",
    "every year in the dataset.\n",
    "\n",
    "Let's start by writing a loop that simply prints the names of the files we want\n",
    "to create - the dataset we are using covers CW, ACW, EDGE, E0 through E7 and U, and we'll create\n",
    "a separate file for each of those years. Listing the filenames is a good way to\n",
    "confirm that the loop is behaving as we expect.\n",
    "\n",
    "We have seen that we can loop over a list of items, so we need a list of galaxy classes \n",
    "to loop over. We can get the unique classes in our DataFrame with:"
   ]
  },
  {
   "cell_type": "code",
   "execution_count": null,
   "metadata": {
    "collapsed": true
   },
   "outputs": [],
   "source": [
    "gal_df = pd.read_csv('GalaxyZoo1.csv',\n",
    "                         keep_default_na=False, na_values=[\"NA\"])\n",
    "cw_gals = gal_df[gal_df.class == 'CW']\n",
    "cw_gals.to_csv('gals_by_class/cw_gals.csv')"
   ]
  },
  {
   "cell_type": "code",
   "execution_count": null,
   "metadata": {
    "collapsed": false
   },
   "outputs": [],
   "source": [
    "gal_df['class'].unique()"
   ]
  },
  {
   "cell_type": "markdown",
   "metadata": {},
   "source": [
    "Putting this into our for loop we get"
   ]
  },
  {
   "cell_type": "code",
   "execution_count": null,
   "metadata": {
    "collapsed": false
   },
   "outputs": [],
   "source": [
    "for galclass in gal_df['class'].unique():\n",
    "    filename = 'gals_by_class/' + galclass + '_gals.csv'\n",
    "    print(filename)"
   ]
  },
  {
   "cell_type": "markdown",
   "metadata": {},
   "source": [
    "We can now add the rest of the steps we need to create separate text files.\n",
    "Once finished look inside the `gals_by_class` directory and check a couple of the files you\n",
    "just created to confirm that everything worked as expected."
   ]
  },
  {
   "cell_type": "code",
   "execution_count": null,
   "metadata": {
    "collapsed": true
   },
   "outputs": [],
   "source": [
    "for galclass in gal_df['class'].unique():\n",
    "    filename = 'gals_by_class/' + galclass + '_gals.csv'\n",
    "    # extracting data of a specific year\n",
    "    class_df = gal_df[gal_df.class == galclass]\n",
    "    # writing to file\n",
    "    class_df.to_csv(filename)"
   ]
  },
  {
   "cell_type": "markdown",
   "metadata": {},
   "source": [
    "## Writing Unique FileNames\n",
    "\n",
    "Notice that the code above created a unique filename for each year.\n",
    "\n",
    "\t filename = 'gals_by_class/' + galclass + '_gals.csv'\n",
    "\n",
    "Let's break down the parts of this name:\n",
    "\n",
    "* The first part is simply some text that specifies the directory to store our\n",
    "  data file in \n",
    "* We can concatenate this with the value of a variable, in this case `galclass` by\n",
    "  using the plus `+` sign and the variable we want to add to the file name: `+\n",
    "  galclass`\n",
    "  _Note:_ if you wanted to concatenate a number in the filename convert it to a string first using str(number)\n",
    "* Then we add the file extension and a short descriptor as another text string: `+ '_gals.csv'`\n",
    "\n",
    "Notice that we use single quotes to add text strings. The variable is not\n",
    "surrounded by quotes.\n",
    "\n",
    "### Challenge\n",
    "\n",
    "1. Some of the entries are missing data (i.e. NaN for the probability measurements). Modify the for loop so that the entries with null values are not included in the class files."
   ]
  },
  {
   "cell_type": "code",
   "execution_count": null,
   "metadata": {
    "collapsed": true
   },
   "outputs": [],
   "source": []
  },
  {
   "cell_type": "code",
   "execution_count": null,
   "metadata": {
    "collapsed": true
   },
   "outputs": [],
   "source": []
  },
  {
   "cell_type": "markdown",
   "metadata": {
    "collapsed": true
   },
   "source": [
    "## Building reusable and modular code with functions\n",
    "\n",
    "Suppose that separating large data files into individual files is a task\n",
    "that we frequently have to perform. We could write a **for loop** like the one above\n",
    "every time we needed to do it but that would be time consuming and error prone.\n",
    "A more elegant solution would be to create a reusable tool that performs this\n",
    "task with minimum input from the user. To do this, we are going to turn the code\n",
    "we've already written into a function.\n",
    "\n",
    "Functions are reusable, self-contained pieces of code that are called with a\n",
    "single command. They can be designed to accept arguments as input and return\n",
    "values, but they don't need to do either. Variables declared inside functions\n",
    "only exist while the function is running and if a variable within the function\n",
    "(a local variable) has the same name as a variable somewhere else in the code,\n",
    "the local variable hides but doesn't overwrite the other.\n",
    "\n",
    "Every method used in Python (for example, `print`) is a function, and the\n",
    "libraries we import (say, `pandas`) are a collection of functions. We will only\n",
    "use functions that are housed within the same code that uses them, but it's also\n",
    "easy to write functions that can be used by different programs.\n",
    "\n",
    "Functions are declared following this general structure:\n",
    "\n",
    "```python\n",
    "def this_is_the_function_name(input_argument1, input_argument2):\n",
    "\n",
    "    # The body of the function is indented\n",
    "    # This function prints the two arguments to screen\n",
    "    print('The function arguments are:', input_argument1, input_argument2, \n",
    "    '(this is done inside the function!)')\n",
    "\n",
    "    # And returns their product\n",
    "    return input_argument1 * input_argument2\n",
    "```\n",
    "\n",
    "The function declaration starts with the word `def`, followed by the function\n",
    "name and any arguments in parenthesis, and ends in a colon. The body of the\n",
    "function is indented just like loops are. If the function returns something when\n",
    "it is called, it includes a return statement at the end."
   ]
  },
  {
   "cell_type": "code",
   "execution_count": null,
   "metadata": {
    "collapsed": true
   },
   "outputs": [],
   "source": [
    "#let's define this function\n",
    "def function_name(input_argument1, input_argument2):\n",
    "\n",
    "    # The body of the function is indented\n",
    "    # This function prints the two arguments to screen\n",
    "    print('The function arguments are:', input_argument1, input_argument2, '(this is done inside the function!)')\n",
    "\n",
    "    # And returns their product\n",
    "    return input_argument1 * input_argument2"
   ]
  },
  {
   "cell_type": "code",
   "execution_count": null,
   "metadata": {
    "collapsed": true
   },
   "outputs": [],
   "source": [
    "#and now let's call the function:\n",
    "#and now let's call the function:\n",
    "result = function_name(4,4)\n",
    "result"
   ]
  },
  {
   "cell_type": "markdown",
   "metadata": {},
   "source": [
    "### Challenge:\n",
    "\n",
    "1. Change the values of the arguments in the function and check its output\n",
    "2. Try calling the function by giving it the wrong number of arguments (not 2)\n",
    "   or not assigning the function call to a variable (no `product_of_inputs =`)\n",
    "3. Declare a variable inside the function and test to see where it exists (Hint:\n",
    "   can you print it from outside the function?)\n",
    "4. Explore what happens when a variable both inside and outside the function\n",
    "   have the same name. What happens to the global variable when you change the\n",
    "   value of the local variable?"
   ]
  },
  {
   "cell_type": "code",
   "execution_count": null,
   "metadata": {
    "collapsed": true
   },
   "outputs": [],
   "source": []
  },
  {
   "cell_type": "code",
   "execution_count": null,
   "metadata": {
    "collapsed": false
   },
   "outputs": [],
   "source": []
  },
  {
   "cell_type": "code",
   "execution_count": null,
   "metadata": {
    "collapsed": true
   },
   "outputs": [],
   "source": []
  },
  {
   "cell_type": "code",
   "execution_count": null,
   "metadata": {
    "collapsed": true
   },
   "outputs": [],
   "source": []
  },
  {
   "cell_type": "markdown",
   "metadata": {},
   "source": [
    "Now let's write a function to save galaxy data for a range of probabilities. \n",
    "Let's first write a function that separates data for just one probability value and saves that data to a file:\n",
    "To make this easier for us we will need to round our probabilities to 1 digit.\n",
    "For this we will use the nympy round method, so we will have to import numpy as well.\n",
    "\n",
    "\n",
    "```python\n",
    "import numpy as np\n",
    "\n",
    "def one_prob_csv_writer(this_prob, all_data):\n",
    "    \"\"\"\n",
    "    Writes a csv file for data for a given class.\n",
    "\n",
    "    this_prob --- probability for which data is extracted\n",
    "    all_data --- DataFrame with multi-class data\n",
    "    \"\"\"\n",
    "\n",
    "    # Select data for the galaxy class\n",
    "    class_df = all_data[np.round(all_data.p_e, 1) == this_prob]\n",
    "\n",
    "    # create new file name\n",
    "    filename = filename = 'gals_by_class/Probability' + str(this_prob) + '_gals.csv'\n",
    "\n",
    "    # Write the new DataFrame to a csv file\n",
    "    class_df.to_csv(filename)\n",
    "```"
   ]
  },
  {
   "cell_type": "code",
   "execution_count": null,
   "metadata": {
    "collapsed": true
   },
   "outputs": [],
   "source": [
    "import numpy as np\n",
    "\n",
    "def one_prob_csv_writer(this_prob, all_data):\n",
    "    \"\"\"\n",
    "    Writes a csv file for data for a given class.\n",
    "\n",
    "    this_prob --- probability for which data is extracted\n",
    "    all_data --- DataFrame with multi-class data\n",
    "    \"\"\"\n",
    "\n",
    "    # Select data for the galaxy class\n",
    "    class_df = all_data[np.round(all_data.p_e, 1) == this_prob]\n",
    "\n",
    "    # create new file name\n",
    "    filename = filename = 'gals_by_class/Probability' + str(this_prob) + '_gals.csv'\n",
    "\n",
    "    # Write the new DataFrame to a csv file\n",
    "    class_df.to_csv(filename)"
   ]
  },
  {
   "cell_type": "markdown",
   "metadata": {},
   "source": [
    "The text between the two sets of triple double quotes is called a docstring and\n",
    "contains the documentation for the function. It does nothing when the function\n",
    "is running and is therefore not necessary, but it is good practice to include\n",
    "docstrings as a reminder of what the code does. Docstrings in functions also\n",
    "become part of their 'official' documentation:"
   ]
  },
  {
   "cell_type": "code",
   "execution_count": null,
   "metadata": {
    "collapsed": false
   },
   "outputs": [],
   "source": [
    "one_prob_csv_writer?\n"
   ]
  },
  {
   "cell_type": "code",
   "execution_count": null,
   "metadata": {
    "collapsed": false
   },
   "outputs": [],
   "source": [
    "one_prob_csv_writer(0.5,gal_df)"
   ]
  },
  {
   "cell_type": "markdown",
   "metadata": {},
   "source": [
    "Check the `gals_by_class` directory for the file. Did it do what you expect?\n",
    "\n",
    "What we really want to do, though, is create files for multiple probabilities without\n",
    "having to request them one by one. Let's write another function that replaces\n",
    "the entire For loop by simply looping through a sequence of years and repeatedly\n",
    "calling the function we just wrote, `one_year_csv_writer`:\n",
    "\n",
    "\n",
    "```python\n",
    "def prob_data_csv_writer(start_prob, end_prob, all_data):\n",
    "    \"\"\"\n",
    "    Writes separate csv files for each probability in the data.\n",
    "\n",
    "    start_prob --- the first year of data we want\n",
    "    end_prob --- the last year of data we want\n",
    "    all_data --- DataFrame with multi-year data\n",
    "    \"\"\"\n",
    "\n",
    "    # \"end_prob\" is the last prob of data we want to pull, so we loop to end_prob+0.1\n",
    "    for prob in np.arange(start_prob, end_prob+0.1, 0.1):\n",
    "        one_prob_csv_writer(prob, all_data)\n",
    "```"
   ]
  },
  {
   "cell_type": "code",
   "execution_count": null,
   "metadata": {
    "collapsed": true
   },
   "outputs": [],
   "source": [
    "def prob_data_csv_writer(start_prob, end_prob, all_data):\n",
    "    \"\"\"\n",
    "    Writes separate csv files for each probability in the data.\n",
    "\n",
    "    start_prob --- the first year of data we want\n",
    "    end_prob --- the last year of data we want\n",
    "    all_data --- DataFrame with multi-year data\n",
    "    \"\"\"\n",
    "\n",
    "    # \"end_year\" is the last year of data we want to pull, so we loop to end_year+1\n",
    "    for prob in range(start_prob, end_prob+0.1):\n",
    "        one_prob_csv_writer(prob, all_data)"
   ]
  },
  {
   "cell_type": "markdown",
   "metadata": {},
   "source": [
    "Because people will naturally expect that the end year for the files is the last\n",
    "year with data, the for loop inside the function ends at `end_year + 1`. \n",
    "This is because when we specify `range()` the last number is not included, try it for yourself.\n",
    "\n",
    "By writing the entire loop into a function, we've made a reusable tool for whenever\n",
    "we need to break a large data file into yearly files. Because we can specify the\n",
    "first and last year for which we want files, we can even use this function to\n",
    "create files for a subset of the years available. This is how we call this\n",
    "function:"
   ]
  },
  {
   "cell_type": "code",
   "execution_count": null,
   "metadata": {
    "collapsed": false
   },
   "outputs": [],
   "source": [
    "prob_data_csv_writer(0.3,0.5,gal_df)"
   ]
  },
  {
   "cell_type": "markdown",
   "metadata": {
    "raw_mimetype": "text/markdown"
   },
   "source": [
    "**BEWARE!** If you are using IPython Notebooks and you modify a function, you MUST\n",
    "re-run that cell in order for the changed function to be available to the rest\n",
    "of the code. Nothing will visibly happen when you do this, though, because\n",
    "simply defining a function without *calling* it doesn't produce an output. Any\n",
    "cells that use the now-changed functions will also have to be re-run for their\n",
    "output to change.\n",
    "\n",
    "### Challenge:\n",
    "\n",
    "1. Add two arguments to the functions we wrote that take the path of the\n",
    "   directory where the files will be written and the root of the file name.\n",
    "   Create a new set of files with a different name in a different directory."
   ]
  },
  {
   "cell_type": "code",
   "execution_count": null,
   "metadata": {
    "collapsed": true
   },
   "outputs": [],
   "source": []
  },
  {
   "cell_type": "code",
   "execution_count": null,
   "metadata": {
    "collapsed": true
   },
   "outputs": [],
   "source": []
  },
  {
   "cell_type": "code",
   "execution_count": null,
   "metadata": {
    "collapsed": true
   },
   "outputs": [],
   "source": []
  },
  {
   "cell_type": "code",
   "execution_count": null,
   "metadata": {
    "collapsed": true
   },
   "outputs": [],
   "source": []
  },
  {
   "cell_type": "code",
   "execution_count": null,
   "metadata": {
    "collapsed": false
   },
   "outputs": [],
   "source": []
  },
  {
   "cell_type": "markdown",
   "metadata": {},
   "source": [
    "The functions we wrote demand that we give them a value for every argument.\n",
    "Ideally, we would like these functions to be as flexible and independent as\n",
    "possible. Let's modify the function `prob_data_csv_writer` so that the\n",
    "`start_prob` and `end_prob` default to the full range of the data if they are\n",
    "not supplied by the user. Arguments can be given default values with an equal\n",
    "sign in the function declaration. Any arguments in the function without default\n",
    "values (here, `all_data`) is a required argument and MUST come before the\n",
    "argument with default values (which are optional in the function call).\n",
    "\n",
    "```python\n",
    "    def prob_range_data_arg_test(all_data, start_year = None, end_year = None):\n",
    "        \"\"\"\n",
    "        Modified from prob_data_csv_writer to test default argument values!\n",
    "\n",
    "        start_prob --- the min probability of data we want --- default: None - check all_data\n",
    "        end_prob --- the max probability of data we want --- default: None - check all_data\n",
    "        all_data --- DataFrame with multi-year data\n",
    "        \"\"\"\n",
    "\n",
    "        if not start_ptob:\n",
    "            start_prob = min(all_data.p_e)\n",
    "        if not end_prob:\n",
    "            end_prob = max(all_data.prob)\n",
    "\n",
    "        return start_prob, end_prob\n",
    "```"
   ]
  },
  {
   "cell_type": "code",
   "execution_count": null,
   "metadata": {
    "collapsed": true
   },
   "outputs": [],
   "source": [
    "#define function"
   ]
  },
  {
   "cell_type": "code",
   "execution_count": null,
   "metadata": {
    "collapsed": true
   },
   "outputs": [],
   "source": [
    "#test function"
   ]
  },
  {
   "cell_type": "markdown",
   "metadata": {},
   "source": [
    "The default values of the `start_prob` and `end_prob` arguments in the function\n",
    "`prob_range_data_arg_test` are now `None`. This is a build-it constant in Python\n",
    "that indicates the absence of a value - essentially, that the variable exists in\n",
    "the namespace of the function (the directory of variable names) but that it\n",
    "doesn't correspond to any existing object."
   ]
  },
  {
   "cell_type": "markdown",
   "metadata": {},
   "source": [
    "The body of the test function now has two conditional 'loops' (if statement) that\n",
    "check the values of `start_prob` and `end_prob`. If statements execute the body of\n",
    "the 'loop' when some condition is met. They commonly look something like this:\n",
    "\n",
    "```python\n",
    "    a = 5\n",
    "\n",
    "    if a<0: # meets first condition?\n",
    "\n",
    "        # if a IS less than zero\n",
    "        print('a is a negative number')\n",
    "\n",
    "    elif a>0: # did not meet first condition. meets second condition?\n",
    "\n",
    "        # if a ISN'T less than zero and IS more than zero\n",
    "        print('a is a positive number')\n",
    "\n",
    "    else: # met neither condition\n",
    "\n",
    "        # if a ISN'T less than zero and ISN'T more than zero\n",
    "        print('a must be zero!')\n",
    "\n",
    "    a is a positive number\n",
    "```"
   ]
  },
  {
   "cell_type": "code",
   "execution_count": null,
   "metadata": {
    "collapsed": true
   },
   "outputs": [],
   "source": []
  },
  {
   "cell_type": "code",
   "execution_count": null,
   "metadata": {
    "collapsed": true
   },
   "outputs": [],
   "source": []
  },
  {
   "cell_type": "markdown",
   "metadata": {},
   "source": [
    "Some more useful info to get you started and keep you going with notebooks and pandas:\n",
    "\n",
    "**Notebook tips and tricks**\n",
    "https://www.dataquest.io/blog/jupyter-notebook-tips-tricks-shortcuts/\n",
    "\n",
    "**Pandas cheat sheet**\n",
    "https://www.analyticsvidhya.com/blog/2015/07/11-steps-perform-data-analysis-pandas-python/\n",
    "\n",
    "**Join the ADACS facebook group to stay up-to-date with upcoming training!**"
   ]
  },
  {
   "cell_type": "code",
   "execution_count": null,
   "metadata": {
    "collapsed": true
   },
   "outputs": [],
   "source": []
  }
 ],
 "metadata": {
  "celltoolbar": "Raw Cell Format",
  "kernelspec": {
   "display_name": "Python 2",
   "language": "python",
   "name": "python2"
  },
  "language_info": {
   "codemirror_mode": {
    "name": "ipython",
    "version": 2
   },
   "file_extension": ".py",
   "mimetype": "text/x-python",
   "name": "python",
   "nbconvert_exporter": "python",
   "pygments_lexer": "ipython2",
   "version": "2.7.11"
  }
 },
 "nbformat": 4,
 "nbformat_minor": 0
}
