{
 "cells": [
  {
   "cell_type": "markdown",
   "metadata": {},
   "source": [
    "# Good Coding Practices and an Introduction to Python\n",
    "\n",
    "Good coding practices which apply to all languages\n",
    "\n",
    "Examples in Python since that what we are going to be learning all about this week.\n",
    "\n",
    "This lesson borrowed heavily from: https://software-carpentry.org/lessons/\n",
    "in particular - http://swcarpentry.github.io/python-novice-inflammation/"
   ]
  },
  {
   "cell_type": "markdown",
   "metadata": {},
   "source": [
    "# Python 2 vs 3\n",
    "Astronomers are behind the times when it comes to adopting software and coding practices.\n",
    "\n",
    "For Python this means that we are often using a no-longer developed version (2.7.x).\n",
    "Actually many people and computers will still be running on 2.5 or 2.6.\n",
    "The curent version of python is 3.6.2\n",
    "Python is backwards compatible within a major version, but not between marjor versions.\n",
    "That means that if you have code from <=2.7 that you can't always run it in 3.6\n",
    "\n",
    "# Which version?\n",
    "You *should* write all your code to be compatible with python3 so that it'll work into the future, and future you will be thankful of this when you revisit code in a few years.\n",
    "*However*, some of the modules that you might want to use might not be up-to-date.\n",
    "Either find different modules, rewrite the module (someimtes this is actually not so bad), or just use python 2. The good news is that it's actually not that hard to write code that will work with both python2 and python3.\n",
    "\n",
    "There is a magic command\n",
    "`from future import ...`\n",
    "that lets you use some python3 syntax in python2.\n",
    "\n",
    "For functional differences you can use the module `six` that will help you manage the differences."
   ]
  },
  {
   "cell_type": "code",
   "execution_count": 2,
   "metadata": {
    "collapsed": true
   },
   "outputs": [],
   "source": [
    "# Lets use have consistent print and divide functionality between python 2 and 3\n",
    "from __future__ import print_function, division"
   ]
  },
  {
   "cell_type": "markdown",
   "metadata": {},
   "source": [
    "# Coding environments\n",
    "IDEs great when you want to want to write a heavy piece of code, but Jupyter notebooks are fantastic for just mucking about and testing ideas.\n",
    "I use Jupyter all the time for just figuring things out, or writing a short pieces of code."
   ]
  },
  {
   "cell_type": "markdown",
   "metadata": {},
   "source": [
    "## Introduction to Jupyter notebooks \n",
    "\n",
    "\n",
    "Jupyter Notebook Cheat Sheet\n",
    "![Jupyter Notebook Cheat Sheet -- courtesy of DataCamp.com](https://cdn-images-1.medium.com/max/800/1*_nFAOrPMxYwE7cBt-ryqZA.png)\n"
   ]
  },
  {
   "cell_type": "markdown",
   "metadata": {},
   "source": [
    "## Introduction to Python, Jupyter notebooks and coding best practices\n",
    "\n",
    "Python is a high-level, interpreted programming language. This means the code is easy to read for humans and there is no need for us to compile it and in many cases we do not have to think too much about the underlying system fro e.g. memory usage.\n",
    "\n",
    "As a consequence, we can use it in two ways:\n",
    "- Using the interpreter as an \"advanced calculator\" in interactive mode:\n",
    "- Executing programs/scripts saved as a text file, usually with *.py extension:"
   ]
  },
  {
   "cell_type": "code",
   "execution_count": 3,
   "metadata": {
    "collapsed": false
   },
   "outputs": [
    {
     "data": {
      "text/plain": [
       "4"
      ]
     },
     "execution_count": 3,
     "metadata": {},
     "output_type": "execute_result"
    }
   ],
   "source": [
    "# Try a simple math equation and press ctrl/cmd/shift + Enter\n",
    "2+2"
   ]
  },
  {
   "cell_type": "code",
   "execution_count": 4,
   "metadata": {
    "collapsed": false
   },
   "outputs": [
    {
     "name": "stdout",
     "output_type": "stream",
     "text": [
      "Hello\n"
     ]
    }
   ],
   "source": [
    "# use print() to print something\n",
    "print(\"Hello\")"
   ]
  },
  {
   "cell_type": "code",
   "execution_count": 5,
   "metadata": {
    "collapsed": false
   },
   "outputs": [
    {
     "name": "stdout",
     "output_type": "stream",
     "text": [
      "Hello World\n"
     ]
    }
   ],
   "source": [
    "# run a script from the current directory - my_script.py\n",
    "%run my_script.py"
   ]
  },
  {
   "cell_type": "markdown",
   "metadata": {},
   "source": [
    "Markdown cells understand LaTeX style equations\n",
    "$$e^x=\\sum_{i=0}^\\infty \\frac{1}{i!}x^i$$\n",
    "(double click to edit this cell and see the source)"
   ]
  },
  {
   "cell_type": "markdown",
   "metadata": {},
   "source": [
    "# Magics!\n",
    "Jupyter lets you do a bunch of things that you can't do in a regular python terminal.\n",
    "These are magics and here is an example of some of the more useful ones"
   ]
  },
  {
   "cell_type": "code",
   "execution_count": 28,
   "metadata": {
    "collapsed": false
   },
   "outputs": [
    {
     "data": {
      "text/plain": [
       "<matplotlib.collections.PathCollection at 0x75356a0>"
      ]
     },
     "execution_count": 28,
     "metadata": {},
     "output_type": "execute_result"
    },
    {
     "data": {
      "image/png": "[encoded data removed]",
      "text/plain": [
       "<matplotlib.figure.Figure at 0x749d6d8>"
      ]
     },
     "metadata": {},
     "output_type": "display_data"
    }
   ],
   "source": [
    "# Display matplotlib plots in a cell instead of opening a new tab\n",
    "%matplotlib inline\n",
    "from matplotlib import pyplot\n",
    "pyplot.scatter(range(10),range(10))"
   ]
  },
  {
   "cell_type": "code",
   "execution_count": 29,
   "metadata": {
    "collapsed": true
   },
   "outputs": [],
   "source": [
    "# get help on some function\n",
    "print?"
   ]
  },
  {
   "cell_type": "code",
   "execution_count": 38,
   "metadata": {
    "collapsed": false
   },
   "outputs": [
    {
     "name": "stdout",
     "output_type": "stream",
     "text": [
      "Couldn't find program: u'bash'\n"
     ]
    }
   ],
   "source": [
    "# interpret this cell as bash code\n",
    "# Doesn't work on windows because it doesn't have bash\n",
    "%%bash\n",
    "ls"
   ]
  },
  {
   "cell_type": "markdown",
   "metadata": {},
   "source": [
    "The following does work on windows, because it uses magics."
   ]
  },
  {
   "cell_type": "code",
   "execution_count": 48,
   "metadata": {
    "collapsed": false
   },
   "outputs": [
    {
     "name": "stdout",
     "output_type": "stream",
     "text": [
      " Volume in drive C is OS\n",
      " Volume Serial Number is AED6-3A16\n",
      "\n",
      " Directory of C:\\Users\\PaulHancock\\Documents\\ADACS-obs-workshop\\DAY1\n",
      "\n",
      "11/11/2017  10:53 PM    <DIR>          .\n",
      "11/11/2017  10:53 PM    <DIR>          ..\n",
      "11/11/2017  09:38 PM    <DIR>          .ipynb_checkpoints\n",
      "11/11/2017  10:53 PM            48,819 Good_coding_practices.ipynb\n",
      "11/11/2017  07:40 PM            14,710 Intro_to_python.ipynb\n",
      "11/11/2017  09:13 PM            41,615 Intro_to_python_answers.ipynb\n",
      "11/11/2017  07:40 PM            58,876 Introduction to version control with git.html\n",
      "11/11/2017  09:09 PM    <DIR>          Introduction to version control with git_files\n",
      "11/11/2017  07:40 PM                20 my_script.py\n",
      "11/11/2017  09:09 PM    <DIR>          python-viz\n",
      "11/11/2017  07:40 PM               964 README.md\n",
      "11/11/2017  07:40 PM         1,798,475 version-control.pdf\n",
      "               7 File(s)      1,963,479 bytes\n",
      "               5 Dir(s)  10,521,886,720 bytes free\n"
     ]
    }
   ],
   "source": [
    "ls"
   ]
  },
  {
   "cell_type": "markdown",
   "metadata": {},
   "source": [
    "Find more magics by auto-completing [tab] on the `%` character, and then add `/` to get the help on it!"
   ]
  },
  {
   "cell_type": "code",
   "execution_count": 46,
   "metadata": {
    "collapsed": true
   },
   "outputs": [],
   "source": [
    "%"
   ]
  },
  {
   "cell_type": "markdown",
   "metadata": {},
   "source": [
    "# Practice the DRY mantra\n",
    "Don't Reapeat Yourself (or others):\n",
    "- Make your code reuseable by you and others,\n",
    "- Use code supplied by others,\n",
    "- Get/Give attribution\n",
    "\n",
    "This should apply not just to code but many other aspects of your work environment.\n",
    "\n",
    "Having said that: Lets not reinvent the intro to python class! We'll start by working from an existing class supplied by the fantastic folk at softwarecarpetry.\n",
    "\n",
    "Go to: https://software-carpentry.org/lessons/ and navigate to the **Programming with Python** module: http://swcarpentry.github.io/python-novice-inflammation/\n",
    "\n",
    "We'll use this notebook as our logbook for today so keep adding cells below"
   ]
  },
  {
   "cell_type": "markdown",
   "metadata": {},
   "source": [
    "# 1 Analysing Data"
   ]
  },
  {
   "cell_type": "code",
   "execution_count": null,
   "metadata": {
    "collapsed": true
   },
   "outputs": [],
   "source": []
  }
 ],
 "metadata": {
  "celltoolbar": "Raw Cell Format",
  "kernelspec": {
   "display_name": "Python 2",
   "language": "python",
   "name": "python2"
  },
  "language_info": {
   "codemirror_mode": {
    "name": "ipython",
    "version": 2
   },
   "file_extension": ".py",
   "mimetype": "text/x-python",
   "name": "python",
   "nbconvert_exporter": "python",
   "pygments_lexer": "ipython2",
   "version": "2.7.13"
  }
 },
 "nbformat": 4,
 "nbformat_minor": 0
}
