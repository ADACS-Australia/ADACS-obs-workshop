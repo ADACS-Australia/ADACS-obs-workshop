{
 "cells": [
  {
   "cell_type": "markdown",
   "metadata": {},
   "source": [
    "# ADACS - Introduction to computing for astronomers\n",
    "\n",
    "This lesson material was developed for ADACS face-to-face training. However, as the material is fairly comprehensive one can work through the notebooks on their own. As the face-to-face training is a live coding workshop a solutions notebook is supplied to help anyone working through the notebooks in their own pace.\n",
    "\n",
    "This notebook was put together by:\n",
    "- Rebecca Lange | Curtin Institute for Computation\n",
    "- Paul Hancock | Curtin Institute for Radio Astronomy Research\n",
    "\n",
    "Inspiration and material for this notebook was taken from:\n",
    "- Data Carpentry\n",
    "- Towards Data Science blog\n",
    "- ..."
   ]
  },
  {
   "cell_type": "markdown",
   "metadata": {},
   "source": [
    "## Introduction to Jupyter notebooks \n",
    "\n",
    "\n",
    "Jupyter Notebook Cheat Sheet\n",
    "![Jupyter Notebook Cheat Sheet -- courtesy of DataCamp.com](https://cdn-images-1.medium.com/max/800/1*_nFAOrPMxYwE7cBt-ryqZA.png)\n"
   ]
  },
  {
   "cell_type": "markdown",
   "metadata": {},
   "source": [
    "## Introduction to Python, Jupyter notebooks and coding best practices\n",
    "\n",
    "Python is a high-level, interpreted programming language. This means the code is easy to read for humans and there is no need for us to compile it and in many cases we do not have to think too much about the underlying system fro e.g. memory usage.\n",
    "\n",
    "As a consequence, we can use it in two ways:\n",
    "- Using the interpreter as an \"advanced calculator\" in interactive mode:\n",
    "- Executing programs/scripts saved as a text file, usually with *.py extension:"
   ]
  },
  {
   "cell_type": "code",
   "execution_count": null,
   "metadata": {
    "collapsed": false
   },
   "outputs": [],
   "source": [
    "2+2"
   ]
  },
  {
   "cell_type": "code",
   "execution_count": null,
   "metadata": {
    "collapsed": false
   },
   "outputs": [],
   "source": [
    "print(\"Hello\")"
   ]
  },
  {
   "cell_type": "code",
   "execution_count": null,
   "metadata": {
    "collapsed": false
   },
   "outputs": [],
   "source": [
    "%run my_script.py"
   ]
  },
  {
   "cell_type": "markdown",
   "metadata": {},
   "source": [
    "# Types of Data\n",
    "\n",
    "How information is stored in a DataFrame or a python object affects what we can do with it and the outputs of calculations as well. There are two main types of data that we're explore in this lesson: numeric and character types.\n",
    "\n",
    "\n",
    "## Numeric Data Types\n",
    "\n",
    "Numeric data types include integers and floats. A **floating point** (known as a\n",
    "float) number has decimal points even if that decimal point value is 0. For\n",
    "example: 1.13, 2.0 1234.345. If we have a column that contains both integers and\n",
    "floating point numbers, Pandas will assign the entire column to the float data\n",
    "type so the decimal points are not lost. In a vector or data fram (we learn about these different types later) the entire object or an entire column will be of the same type.\n",
    "\n",
    "An **integer** will never have a decimal point. Thus 1.13 would be stored as 1.\n",
    "1234.345 is stored as 1234. You will often see the data type `Int64` in python\n",
    "which stands for 64 bit integer. The 64 simply refers to the memory allocated to\n",
    "store data in each cell which effectively relates to how many digits it can\n",
    "store in each \"cell\". Allocating space ahead of time allows computers to\n",
    "optimize storage and processing efficiency.\n",
    "\n",
    "\n",
    "\n",
    "## Character Data Types\n",
    "\n",
    "Strings are values that contain numbers and / or characters. \n",
    "For example, a string might be a word, a sentence, or several sentences. \n",
    "A string can also contain or consist of numbers. For instance, '1234' could be stored as a\n",
    "string. As could '10.23'. However **strings that contain numbers can not be used\n",
    "for mathematical operations**!\n",
    "\n",
    "\n",
    "\n"
   ]
  },
  {
   "cell_type": "code",
   "execution_count": null,
   "metadata": {
    "collapsed": true
   },
   "outputs": [],
   "source": [
    "text = \"Data Carpentry\"\n",
    "number = 42\n",
    "pi_value = 3.1415"
   ]
  },
  {
   "cell_type": "markdown",
   "metadata": {},
   "source": [
    "Here we've assigned data to variables, namely `text`, `number` and `pi_value`,\n",
    "using the assignment operator `=`. The variable called `text` is a string which\n",
    "means it can contain letters and numbers. We could reassign the variable `text`\n",
    "to an integer too - but be careful reassigning variables as this can get \n",
    "confusing.\n",
    "\n",
    "To print out the value stored in a variable we can simply type the name of the\n",
    "variable into the interpreter:"
   ]
  },
  {
   "cell_type": "code",
   "execution_count": null,
   "metadata": {
    "collapsed": false
   },
   "outputs": [],
   "source": [
    "text"
   ]
  },
  {
   "cell_type": "markdown",
   "metadata": {},
   "source": [
    "however, in scripts we must use the `print` function:"
   ]
  },
  {
   "cell_type": "code",
   "execution_count": null,
   "metadata": {
    "collapsed": false
   },
   "outputs": [],
   "source": [
    "# Comments start with #\n",
    "# Next line will print out text\n",
    "print(text)"
   ]
  },
  {
   "cell_type": "code",
   "execution_count": null,
   "metadata": {
    "collapsed": false
   },
   "outputs": [],
   "source": [
    "# We also need the print statement if we want to see more than one variable\n",
    "text\n",
    "number"
   ]
  },
  {
   "cell_type": "code",
   "execution_count": null,
   "metadata": {
    "collapsed": false
   },
   "outputs": [],
   "source": [
    "print(text, number, pi_value)"
   ]
  },
  {
   "cell_type": "markdown",
   "metadata": {},
   "source": [
    "### Operators\n",
    "\n",
    "We can perform mathematical calculations in Python using the basic operators\n",
    " `+, -, /, *, %`:"
   ]
  },
  {
   "cell_type": "code",
   "execution_count": null,
   "metadata": {
    "collapsed": false
   },
   "outputs": [],
   "source": [
    "6*7\n",
    "2**16\n",
    "13 % 5"
   ]
  },
  {
   "cell_type": "markdown",
   "metadata": {},
   "source": [
    "** In python 2 if we divide one integer by another, we get an integer! **\n",
    "The result in python 3 is different where we get a float.\n",
    "Remember to convert your integers to floats when you want floating point precision for divisions!"
   ]
  },
  {
   "cell_type": "code",
   "execution_count": null,
   "metadata": {
    "collapsed": false
   },
   "outputs": [],
   "source": [
    "10/3"
   ]
  },
  {
   "cell_type": "code",
   "execution_count": null,
   "metadata": {
    "collapsed": false
   },
   "outputs": [],
   "source": [
    "# convert to integer\n",
    "a = 6.6\n",
    "int(a)"
   ]
  },
  {
   "cell_type": "code",
   "execution_count": null,
   "metadata": {
    "collapsed": false
   },
   "outputs": [],
   "source": [
    "# convert to float\n",
    "b=5\n",
    "float(b)"
   ]
  },
  {
   "cell_type": "code",
   "execution_count": null,
   "metadata": {
    "collapsed": false
   },
   "outputs": [],
   "source": [
    "10/float(3)"
   ]
  },
  {
   "cell_type": "markdown",
   "metadata": {},
   "source": [
    "We can also use comparison and logic operators:\n",
    "`<, >, ==, !=, <=, >=` and statements of identity such as\n",
    "`and, or, not`. The data type returned by this is \n",
    "called a _boolean_."
   ]
  },
  {
   "cell_type": "code",
   "execution_count": null,
   "metadata": {
    "collapsed": false
   },
   "outputs": [],
   "source": [
    "3>4\n",
    "True and False\n",
    "True or False"
   ]
  },
  {
   "cell_type": "markdown",
   "metadata": {},
   "source": [
    "## Sequential types: Lists and Tuples\n",
    "\n",
    "### Lists\n",
    "\n",
    "**Lists** are a common data structure to hold an ordered sequence of\n",
    "elements. Each element can be accessed by an index.  Note that Python\n",
    "indexes start with 0 instead of 1:"
   ]
  },
  {
   "cell_type": "code",
   "execution_count": null,
   "metadata": {
    "collapsed": false
   },
   "outputs": [],
   "source": [
    "numbers = [1,2,3]\n",
    "numbers[0]"
   ]
  },
  {
   "cell_type": "markdown",
   "metadata": {},
   "source": [
    "To add elements to the end of a list, we can use the `append` method:"
   ]
  },
  {
   "cell_type": "code",
   "execution_count": null,
   "metadata": {
    "collapsed": false
   },
   "outputs": [],
   "source": [
    "numbers.append(4)\n",
    "print(numbers)"
   ]
  },
  {
   "cell_type": "markdown",
   "metadata": {},
   "source": [
    "**Methods** are a way to interact with an object (a list, for example). We can invoke \n",
    "a method using the dot `.` followed by the method name and a list of arguments in parentheses. \n",
    "To find out what methods are available for an object, we can use the built-in `help` command:"
   ]
  },
  {
   "cell_type": "code",
   "execution_count": null,
   "metadata": {
    "collapsed": false
   },
   "outputs": [],
   "source": [
    "help(numbers)"
   ]
  },
  {
   "cell_type": "markdown",
   "metadata": {},
   "source": [
    "We can also access a list of methods using `dir`. Some methods names are\n",
    "surrounded by double underscores. Those methods are called \"special\", and\n",
    "usually we access them in a different way. For example `__add__` method is\n",
    "responsible for the `+` operator."
   ]
  },
  {
   "cell_type": "code",
   "execution_count": null,
   "metadata": {
    "collapsed": false
   },
   "outputs": [],
   "source": [
    "dir(numbers)"
   ]
  },
  {
   "cell_type": "markdown",
   "metadata": {},
   "source": [
    "### Tuples\n",
    "\n",
    "A tuple is similar to a list in that it's an ordered sequence of elements. However,\n",
    "tuples can not be changed once created (they are \"immutable\"). Tuples are\n",
    "created by placing comma-separated values inside parentheses `()`."
   ]
  },
  {
   "cell_type": "code",
   "execution_count": null,
   "metadata": {
    "collapsed": true
   },
   "outputs": [],
   "source": [
    "a_tuple = (1,2,3)\n",
    "another_tuple = (\"blue\", \"green\", \"red\")"
   ]
  },
  {
   "cell_type": "markdown",
   "metadata": {},
   "source": [
    "### Challenge\n",
    "1. What happens when you type `a_tuple[2]=5` vs `a_list[1]=5` ?\n",
    "2. Type `type(a_tuple)` into python - what is the object type?\n"
   ]
  },
  {
   "cell_type": "code",
   "execution_count": null,
   "metadata": {
    "collapsed": false
   },
   "outputs": [],
   "source": [
    "a_list=[1,2,3]"
   ]
  },
  {
   "cell_type": "code",
   "execution_count": null,
   "metadata": {
    "collapsed": false
   },
   "outputs": [],
   "source": [
    "a_list[1]=5"
   ]
  },
  {
   "cell_type": "code",
   "execution_count": null,
   "metadata": {
    "collapsed": false
   },
   "outputs": [],
   "source": [
    "a_list"
   ]
  },
  {
   "cell_type": "markdown",
   "metadata": {},
   "source": [
    "## Dictionaries\n",
    "\n",
    "A **dictionary** is a container that holds pairs of objects - keys and values.\n",
    "\n",
    "Dictionaries work a lot like lists - except that you index them with *keys*. \n",
    "You can think about a key as a name for or a unique identifier for a set of values\n",
    "in the dictionary. Keys can only have particular types - they have to be \n",
    "\"hashable\". Strings and numeric types are acceptable, but lists aren't."
   ]
  },
  {
   "cell_type": "code",
   "execution_count": null,
   "metadata": {
    "collapsed": true
   },
   "outputs": [],
   "source": [
    "translation = {\"one\":1, \"two\":2}"
   ]
  },
  {
   "cell_type": "code",
   "execution_count": null,
   "metadata": {
    "collapsed": false
   },
   "outputs": [],
   "source": [
    "translation[\"one\"]"
   ]
  },
  {
   "cell_type": "code",
   "execution_count": null,
   "metadata": {
    "collapsed": false
   },
   "outputs": [],
   "source": [
    "rev = {1:\"one\", 2:[\"two\", \"birds\"]}\n",
    "rev"
   ]
  },
  {
   "cell_type": "code",
   "execution_count": null,
   "metadata": {
    "collapsed": false
   },
   "outputs": [],
   "source": [
    "bad = {[1,2,3]:3}"
   ]
  },
  {
   "cell_type": "markdown",
   "metadata": {},
   "source": [
    "To add an item to the dictionary we assign a value to a new key:"
   ]
  },
  {
   "cell_type": "code",
   "execution_count": null,
   "metadata": {
    "collapsed": true
   },
   "outputs": [],
   "source": [
    "rev[3]=\"three\""
   ]
  },
  {
   "cell_type": "code",
   "execution_count": null,
   "metadata": {
    "collapsed": false
   },
   "outputs": [],
   "source": [
    "rev"
   ]
  },
  {
   "cell_type": "markdown",
   "metadata": {},
   "source": [
    "### Challenge\n",
    "\n",
    "Can you do reassignment in a dictionary? Give it a try. \n",
    "\n",
    "1. First check what `rev` is right now (remember `rev` is the name of our dictionary). \n",
    "    \n",
    "2. Try to reassign the second value (in the *key value pair*) so that it no longer reads \"two\" but instead reads \"apple-sauce\". \n",
    "\n",
    "3. Now display `rev` again to see if it has changed. \n",
    "\n",
    "It is important to note that dictionaries are \"unordered\" and do not remember the\n",
    "sequence of their items (i.e. the order in which key:value pairs were added to \n",
    "the dictionary). Because of this, the order in which items are returned from loops\n",
    "over dictionaries might appear random and can even change with time."
   ]
  },
  {
   "cell_type": "code",
   "execution_count": null,
   "metadata": {
    "collapsed": false
   },
   "outputs": [],
   "source": [
    "rev"
   ]
  },
  {
   "cell_type": "code",
   "execution_count": null,
   "metadata": {
    "collapsed": false
   },
   "outputs": [],
   "source": [
    "rev[2]=\"apple-sauce\""
   ]
  },
  {
   "cell_type": "code",
   "execution_count": null,
   "metadata": {
    "collapsed": false
   },
   "outputs": [],
   "source": [
    "rev"
   ]
  },
  {
   "cell_type": "code",
   "execution_count": null,
   "metadata": {
    "collapsed": true
   },
   "outputs": [],
   "source": []
  },
  {
   "cell_type": "code",
   "execution_count": null,
   "metadata": {
    "collapsed": true
   },
   "outputs": [],
   "source": []
  },
  {
   "cell_type": "code",
   "execution_count": null,
   "metadata": {
    "collapsed": true
   },
   "outputs": [],
   "source": [
    "#if you need to change your directory\n",
    "import os"
   ]
  },
  {
   "cell_type": "code",
   "execution_count": null,
   "metadata": {
    "collapsed": false
   },
   "outputs": [],
   "source": [
    "os.chdir(\"../\") #make sure you enter the correct fille path"
   ]
  },
  {
   "cell_type": "code",
   "execution_count": null,
   "metadata": {
    "collapsed": false
   },
   "outputs": [],
   "source": [
    "os.listdir(\"./\")\n",
    "os.chdir(\"data/\")"
   ]
  },
  {
   "cell_type": "code",
   "execution_count": null,
   "metadata": {
    "collapsed": true
   },
   "outputs": [],
   "source": []
  },
  {
   "cell_type": "code",
   "execution_count": null,
   "metadata": {
    "collapsed": true
   },
   "outputs": [],
   "source": []
  },
  {
   "cell_type": "markdown",
   "metadata": {},
   "source": [
    "# STOP HERE\n",
    "\n",
    "\n",
    "# Automating data processing using For Loops\n",
    "\n",
    "So far, we've used Python and the pandas library to explore and manipulate\n",
    "individual datasets by hand, much like we would do in a spreadsheet. The beauty\n",
    "of using a programming language like Python, though, comes from the ability to\n",
    "automate data processing through the use of loops and functions.\n",
    "\n",
    "## For loops\n",
    "\n",
    "Loops allow us to repeat a workflow (or series of actions) a given number of\n",
    "times or while some condition is true. We would use a loop to automatically\n",
    "process data that's stored in multiple files (daily values with one file per\n",
    "year, for example). Loops lighten our work load by performing repeated tasks\n",
    "without our direct involvement and make it less likely that we'll introduce\n",
    "errors by making mistakes while processing each file by hand.\n",
    "\n",
    "Let's write a simple for loop that simulates what a kid might see during a\n",
    "visit to the zoo:"
   ]
  },
  {
   "cell_type": "code",
   "execution_count": null,
   "metadata": {
    "collapsed": true
   },
   "outputs": [],
   "source": [
    "animals = ['lion','tiger','crocodile','vulture','hippo']\n",
    "print(animals)"
   ]
  },
  {
   "cell_type": "code",
   "execution_count": null,
   "metadata": {
    "collapsed": true
   },
   "outputs": [],
   "source": [
    "for creatures in animals:\n",
    "    print(creatures)"
   ]
  },
  {
   "cell_type": "markdown",
   "metadata": {},
   "source": [
    "The line defining the loop must start with `for` and end with a colon, and the\n",
    "body of the loop must be indented.\n",
    "\n",
    "In this example, `creature` is the loop variable that takes the value of the next\n",
    "entry in `animals` every time the loop goes around. We can call the loop variable\n",
    "anything we like. After the loop finishes, the loop variable will still exist\n",
    "and will have the value of the last entry in the collection:"
   ]
  },
  {
   "cell_type": "code",
   "execution_count": null,
   "metadata": {
    "collapsed": true
   },
   "outputs": [],
   "source": [
    "for creatures in animals:\n",
    "    pass"
   ]
  },
  {
   "cell_type": "code",
   "execution_count": null,
   "metadata": {
    "collapsed": true
   },
   "outputs": [],
   "source": [
    "creatures"
   ]
  },
  {
   "cell_type": "markdown",
   "metadata": {},
   "source": [
    "We are not asking python to print the value of the loop variable anymore, but\n",
    "the for loop still runs and the value of `creature` changes on each pass through\n",
    "the loop. The statement `pass` in the body of the loop just means \"do nothing\".\n"
   ]
  },
  {
   "cell_type": "markdown",
   "metadata": {},
   "source": [
    "The file we've been using so far, `GalaxyZoo1.csv`, contains 10s of 1000s of observations and\n",
    "very large. We would like to separate the data for each galaxy class.\n",
    "\n",
    "Let's start by making a new directory inside the folder `data` to store all of\n",
    "these files using the module `os`:"
   ]
  },
  {
   "cell_type": "code",
   "execution_count": null,
   "metadata": {
    "collapsed": true
   },
   "outputs": [],
   "source": [
    "os.mkdir(\"gals_by_class\")"
   ]
  },
  {
   "cell_type": "markdown",
   "metadata": {},
   "source": [
    "The command `os.mkdir` is equivalent to `mkdir` in the shell. Just so we are\n",
    "sure, we can check that the new directory was created within the `data` folder:"
   ]
  },
  {
   "cell_type": "code",
   "execution_count": null,
   "metadata": {
    "collapsed": false
   },
   "outputs": [],
   "source": [
    "os.listdir(\".\")"
   ]
  },
  {
   "cell_type": "markdown",
   "metadata": {},
   "source": [
    "The command `os.listdir` is equivalent to `ls` in the shell.\n",
    "\n",
    "Previously, we saw how to use the library pandas to load the species\n",
    "data into memory as a DataFrame, how to select a subset of the data using some\n",
    "criteria, and how to write the DataFrame into a csv file. Let's write a script\n",
    "that performs those three steps in sequence for selecting clockwise spirals:\n",
    "\n",
    "```python\n",
    "import pandas as pd\n",
    "\n",
    "# Load the data into a DataFrame\n",
    "gal_df = pd.read_csv('GalaxyZoo1.csv',\n",
    "                         keep_default_na=False, na_values=[\"NA\"])\n",
    "\n",
    "# Select only clockwise spirals\n",
    "cw_gals = gal_df[gal_df.class == 'CW']\n",
    "\n",
    "# Write the new DataFrame to a csv file\n",
    "cw_gals.to_csv('gals_by_class/cw_gals.csv')\n",
    "```\n",
    "\n",
    "To create files for each class, we could repeat the last two commands over and\n",
    "over, once for each class of galaxy. Repeating code is neither elegant nor\n",
    "practical, and is very likely to introduce errors into your code. We want to\n",
    "turn what we've just written into a loop that repeats the last two commands for\n",
    "every year in the dataset.\n",
    "\n",
    "Let's start by writing a loop that simply prints the names of the files we want\n",
    "to create - the dataset we are using covers CW, ACW, EDGE, E0 through E7 and U, and we'll create\n",
    "a separate file for each of those years. Listing the filenames is a good way to\n",
    "confirm that the loop is behaving as we expect.\n",
    "\n",
    "We have seen that we can loop over a list of items, so we need a list of galaxy classes \n",
    "to loop over. We can get the unique classes in our DataFrame with:"
   ]
  },
  {
   "cell_type": "code",
   "execution_count": null,
   "metadata": {
    "collapsed": true
   },
   "outputs": [],
   "source": [
    "gal_df = pd.read_csv('GalaxyZoo1.csv',\n",
    "                         keep_default_na=False, na_values=[\"NA\"])\n",
    "cw_gals = gal_df[gal_df.class == 'CW']\n",
    "cw_gals.to_csv('gals_by_class/cw_gals.csv')"
   ]
  },
  {
   "cell_type": "code",
   "execution_count": null,
   "metadata": {
    "collapsed": false
   },
   "outputs": [],
   "source": [
    "gal_df['class'].unique()"
   ]
  },
  {
   "cell_type": "markdown",
   "metadata": {},
   "source": [
    "Putting this into our for loop we get"
   ]
  },
  {
   "cell_type": "code",
   "execution_count": null,
   "metadata": {
    "collapsed": false
   },
   "outputs": [],
   "source": [
    "for galclass in gal_df['class'].unique():\n",
    "    filename = 'gals_by_class/' + galclass + '_gals.csv'\n",
    "    print(filename)"
   ]
  },
  {
   "cell_type": "markdown",
   "metadata": {},
   "source": [
    "We can now add the rest of the steps we need to create separate text files.\n",
    "Once finished look inside the `gals_by_class` directory and check a couple of the files you\n",
    "just created to confirm that everything worked as expected."
   ]
  },
  {
   "cell_type": "code",
   "execution_count": null,
   "metadata": {
    "collapsed": true
   },
   "outputs": [],
   "source": [
    "for galclass in gal_df['class'].unique():\n",
    "    filename = 'gals_by_class/' + galclass + '_gals.csv'\n",
    "    # extracting data of a specific year\n",
    "    class_df = gal_df[gal_df.class == galclass]\n",
    "    # writing to file\n",
    "    class_df.to_csv(filename)"
   ]
  },
  {
   "cell_type": "markdown",
   "metadata": {},
   "source": [
    "## Writing Unique FileNames\n",
    "\n",
    "Notice that the code above created a unique filename for each year.\n",
    "\n",
    "\t filename = 'gals_by_class/' + galclass + '_gals.csv'\n",
    "\n",
    "Let's break down the parts of this name:\n",
    "\n",
    "* The first part is simply some text that specifies the directory to store our\n",
    "  data file in \n",
    "* We can concatenate this with the value of a variable, in this case `galclass` by\n",
    "  using the plus `+` sign and the variable we want to add to the file name: `+\n",
    "  galclass`\n",
    "  _Note:_ if you wanted to concatenate a number in the filename convert it to a string first using str(number)\n",
    "* Then we add the file extension and a short descriptor as another text string: `+ '_gals.csv'`\n",
    "\n",
    "Notice that we use single quotes to add text strings. The variable is not\n",
    "surrounded by quotes.\n",
    "\n",
    "### Challenge\n",
    "\n",
    "1. Some of the entries are missing data (i.e. NaN for the probability measurements). Modify the for loop so that the entries with null values are not included in the class files."
   ]
  },
  {
   "cell_type": "code",
   "execution_count": null,
   "metadata": {
    "collapsed": true
   },
   "outputs": [],
   "source": []
  },
  {
   "cell_type": "code",
   "execution_count": null,
   "metadata": {
    "collapsed": true
   },
   "outputs": [],
   "source": []
  },
  {
   "cell_type": "markdown",
   "metadata": {
    "collapsed": true
   },
   "source": [
    "## Building reusable and modular code with functions\n",
    "\n",
    "Suppose that separating large data files into individual files is a task\n",
    "that we frequently have to perform. We could write a **for loop** like the one above\n",
    "every time we needed to do it but that would be time consuming and error prone.\n",
    "A more elegant solution would be to create a reusable tool that performs this\n",
    "task with minimum input from the user. To do this, we are going to turn the code\n",
    "we've already written into a function.\n",
    "\n",
    "Functions are reusable, self-contained pieces of code that are called with a\n",
    "single command. They can be designed to accept arguments as input and return\n",
    "values, but they don't need to do either. Variables declared inside functions\n",
    "only exist while the function is running and if a variable within the function\n",
    "(a local variable) has the same name as a variable somewhere else in the code,\n",
    "the local variable hides but doesn't overwrite the other.\n",
    "\n",
    "Every method used in Python (for example, `print`) is a function, and the\n",
    "libraries we import (say, `pandas`) are a collection of functions. We will only\n",
    "use functions that are housed within the same code that uses them, but it's also\n",
    "easy to write functions that can be used by different programs.\n",
    "\n",
    "Functions are declared following this general structure:\n",
    "\n",
    "```python\n",
    "def this_is_the_function_name(input_argument1, input_argument2):\n",
    "\n",
    "    # The body of the function is indented\n",
    "    # This function prints the two arguments to screen\n",
    "    print('The function arguments are:', input_argument1, input_argument2, \n",
    "    '(this is done inside the function!)')\n",
    "\n",
    "    # And returns their product\n",
    "    return input_argument1 * input_argument2\n",
    "```\n",
    "\n",
    "The function declaration starts with the word `def`, followed by the function\n",
    "name and any arguments in parenthesis, and ends in a colon. The body of the\n",
    "function is indented just like loops are. If the function returns something when\n",
    "it is called, it includes a return statement at the end."
   ]
  },
  {
   "cell_type": "code",
   "execution_count": null,
   "metadata": {
    "collapsed": true
   },
   "outputs": [],
   "source": [
    "#let's define this function\n",
    "def function_name(input_argument1, input_argument2):\n",
    "\n",
    "    # The body of the function is indented\n",
    "    # This function prints the two arguments to screen\n",
    "    print('The function arguments are:', input_argument1, input_argument2, '(this is done inside the function!)')\n",
    "\n",
    "    # And returns their product\n",
    "    return input_argument1 * input_argument2"
   ]
  },
  {
   "cell_type": "code",
   "execution_count": null,
   "metadata": {
    "collapsed": false
   },
   "outputs": [],
   "source": [
    "#and now let's call the function:\n",
    "#and now let's call the function:\n",
    "result = function_name(4,4)\n",
    "result"
   ]
  },
  {
   "cell_type": "markdown",
   "metadata": {},
   "source": [
    "### Challenge:\n",
    "\n",
    "1. Change the values of the arguments in the function and check its output\n",
    "2. Try calling the function by giving it the wrong number of arguments (not 2)\n",
    "   or not assigning the function call to a variable (no `product_of_inputs =`)\n",
    "3. Declare a variable inside the function and test to see where it exists (Hint:\n",
    "   can you print it from outside the function?)\n",
    "4. Explore what happens when a variable both inside and outside the function\n",
    "   have the same name. What happens to the global variable when you change the\n",
    "   value of the local variable?"
   ]
  },
  {
   "cell_type": "code",
   "execution_count": null,
   "metadata": {
    "collapsed": true
   },
   "outputs": [],
   "source": []
  },
  {
   "cell_type": "code",
   "execution_count": null,
   "metadata": {
    "collapsed": false
   },
   "outputs": [],
   "source": []
  },
  {
   "cell_type": "code",
   "execution_count": null,
   "metadata": {
    "collapsed": true
   },
   "outputs": [],
   "source": []
  },
  {
   "cell_type": "code",
   "execution_count": null,
   "metadata": {
    "collapsed": true
   },
   "outputs": [],
   "source": []
  },
  {
   "cell_type": "markdown",
   "metadata": {},
   "source": [
    "Now let's write a function to save galaxy data for a range of probabilities. \n",
    "Let's first write a function that separates data for just one probability value and saves that data to a file:\n",
    "To make this easier for us we will need to round our probabilities to 1 digit.\n",
    "For this we will use the nympy round method, so we will have to import numpy as well.\n",
    "\n",
    "\n",
    "```python\n",
    "import numpy as np\n",
    "\n",
    "def one_prob_csv_writer(this_prob, all_data):\n",
    "    \"\"\"\n",
    "    Writes a csv file for data for a given class.\n",
    "\n",
    "    this_prob --- probability for which data is extracted\n",
    "    all_data --- DataFrame with multi-class data\n",
    "    \"\"\"\n",
    "\n",
    "    # Select data for the galaxy class\n",
    "    class_df = all_data[np.round(all_data.p_e, 1) == this_prob]\n",
    "\n",
    "    # create new file name\n",
    "    filename = filename = 'gals_by_class/Probability' + str(this_prob) + '_gals.csv'\n",
    "\n",
    "    # Write the new DataFrame to a csv file\n",
    "    class_df.to_csv(filename)\n",
    "```"
   ]
  },
  {
   "cell_type": "code",
   "execution_count": null,
   "metadata": {
    "collapsed": true
   },
   "outputs": [],
   "source": [
    "import numpy as np\n",
    "\n",
    "def one_prob_csv_writer(this_prob, all_data):\n",
    "    \"\"\"\n",
    "    Writes a csv file for data for a given class.\n",
    "\n",
    "    this_prob --- probability for which data is extracted\n",
    "    all_data --- DataFrame with multi-class data\n",
    "    \"\"\"\n",
    "\n",
    "    # Select data for the galaxy class\n",
    "    class_df = all_data[np.round(all_data.p_e, 1) == this_prob]\n",
    "\n",
    "    # create new file name\n",
    "    filename = filename = 'gals_by_class/Probability' + str(this_prob) + '_gals.csv'\n",
    "\n",
    "    # Write the new DataFrame to a csv file\n",
    "    class_df.to_csv(filename)"
   ]
  },
  {
   "cell_type": "markdown",
   "metadata": {},
   "source": [
    "The text between the two sets of triple double quotes is called a docstring and\n",
    "contains the documentation for the function. It does nothing when the function\n",
    "is running and is therefore not necessary, but it is good practice to include\n",
    "docstrings as a reminder of what the code does. Docstrings in functions also\n",
    "become part of their 'official' documentation:"
   ]
  },
  {
   "cell_type": "code",
   "execution_count": null,
   "metadata": {
    "collapsed": false
   },
   "outputs": [],
   "source": [
    "one_prob_csv_writer?\n"
   ]
  },
  {
   "cell_type": "code",
   "execution_count": null,
   "metadata": {
    "collapsed": false
   },
   "outputs": [],
   "source": [
    "one_prob_csv_writer(0.5,gal_df)"
   ]
  },
  {
   "cell_type": "markdown",
   "metadata": {},
   "source": [
    "Check the `gals_by_class` directory for the file. Did it do what you expect?\n",
    "\n",
    "What we really want to do, though, is create files for multiple probabilities without\n",
    "having to request them one by one. Let's write another function that replaces\n",
    "the entire For loop by simply looping through a sequence of years and repeatedly\n",
    "calling the function we just wrote, `one_year_csv_writer`:\n",
    "\n",
    "\n",
    "```python\n",
    "def prob_data_csv_writer(start_prob, end_prob, all_data):\n",
    "    \"\"\"\n",
    "    Writes separate csv files for each probability in the data.\n",
    "\n",
    "    start_prob --- the first year of data we want\n",
    "    end_prob --- the last year of data we want\n",
    "    all_data --- DataFrame with multi-year data\n",
    "    \"\"\"\n",
    "\n",
    "    # \"end_prob\" is the last prob of data we want to pull, so we loop to end_prob+0.1\n",
    "    for prob in np.arange(start_prob, end_prob+0.1, 0.1):\n",
    "        one_prob_csv_writer(prob, all_data)\n",
    "```"
   ]
  },
  {
   "cell_type": "code",
   "execution_count": null,
   "metadata": {
    "collapsed": true
   },
   "outputs": [],
   "source": [
    "def prob_data_csv_writer(start_prob, end_prob, all_data):\n",
    "    \"\"\"\n",
    "    Writes separate csv files for each probability in the data.\n",
    "\n",
    "    start_prob --- the first year of data we want\n",
    "    end_prob --- the last year of data we want\n",
    "    all_data --- DataFrame with multi-year data\n",
    "    \"\"\"\n",
    "\n",
    "    # \"end_year\" is the last year of data we want to pull, so we loop to end_year+1\n",
    "    for prob in range(start_prob, end_prob+0.1):\n",
    "        one_prob_csv_writer(prob, all_data)"
   ]
  },
  {
   "cell_type": "markdown",
   "metadata": {},
   "source": [
    "Because people will naturally expect that the end year for the files is the last\n",
    "year with data, the for loop inside the function ends at `end_year + 1`. \n",
    "This is because when we specify `range()` the last number is not included, try it for yourself.\n",
    "\n",
    "By writing the entire loop into a function, we've made a reusable tool for whenever\n",
    "we need to break a large data file into yearly files. Because we can specify the\n",
    "first and last year for which we want files, we can even use this function to\n",
    "create files for a subset of the years available. This is how we call this\n",
    "function:"
   ]
  },
  {
   "cell_type": "code",
   "execution_count": null,
   "metadata": {
    "collapsed": false
   },
   "outputs": [],
   "source": [
    "prob_data_csv_writer(0.3,0.5,gal_df)"
   ]
  },
  {
   "cell_type": "markdown",
   "metadata": {
    "raw_mimetype": "text/markdown"
   },
   "source": [
    "**BEWARE!** If you are using IPython Notebooks and you modify a function, you MUST\n",
    "re-run that cell in order for the changed function to be available to the rest\n",
    "of the code. Nothing will visibly happen when you do this, though, because\n",
    "simply defining a function without *calling* it doesn't produce an output. Any\n",
    "cells that use the now-changed functions will also have to be re-run for their\n",
    "output to change.\n",
    "\n",
    "### Challenge:\n",
    "\n",
    "1. Add two arguments to the functions we wrote that take the path of the\n",
    "   directory where the files will be written and the root of the file name.\n",
    "   Create a new set of files with a different name in a different directory."
   ]
  },
  {
   "cell_type": "code",
   "execution_count": null,
   "metadata": {
    "collapsed": true
   },
   "outputs": [],
   "source": []
  },
  {
   "cell_type": "code",
   "execution_count": null,
   "metadata": {
    "collapsed": true
   },
   "outputs": [],
   "source": []
  },
  {
   "cell_type": "code",
   "execution_count": null,
   "metadata": {
    "collapsed": true
   },
   "outputs": [],
   "source": []
  },
  {
   "cell_type": "code",
   "execution_count": null,
   "metadata": {
    "collapsed": true
   },
   "outputs": [],
   "source": []
  },
  {
   "cell_type": "code",
   "execution_count": null,
   "metadata": {
    "collapsed": false
   },
   "outputs": [],
   "source": []
  },
  {
   "cell_type": "markdown",
   "metadata": {},
   "source": [
    "The functions we wrote demand that we give them a value for every argument.\n",
    "Ideally, we would like these functions to be as flexible and independent as\n",
    "possible. Let's modify the function `prob_data_csv_writer` so that the\n",
    "`start_prob` and `end_prob` default to the full range of the data if they are\n",
    "not supplied by the user. Arguments can be given default values with an equal\n",
    "sign in the function declaration. Any arguments in the function without default\n",
    "values (here, `all_data`) is a required argument and MUST come before the\n",
    "argument with default values (which are optional in the function call).\n",
    "\n",
    "```python\n",
    "    def prob_range_data_arg_test(all_data, start_year = None, end_year = None):\n",
    "        \"\"\"\n",
    "        Modified from prob_data_csv_writer to test default argument values!\n",
    "\n",
    "        start_prob --- the min probability of data we want --- default: None - check all_data\n",
    "        end_prob --- the max probability of data we want --- default: None - check all_data\n",
    "        all_data --- DataFrame with multi-year data\n",
    "        \"\"\"\n",
    "\n",
    "        if not start_ptob:\n",
    "            start_prob = min(all_data.p_e)\n",
    "        if not end_prob:\n",
    "            end_prob = max(all_data.prob)\n",
    "\n",
    "        return start_prob, end_prob\n",
    "```"
   ]
  },
  {
   "cell_type": "code",
   "execution_count": null,
   "metadata": {
    "collapsed": true
   },
   "outputs": [],
   "source": [
    "#define function"
   ]
  },
  {
   "cell_type": "code",
   "execution_count": null,
   "metadata": {
    "collapsed": true
   },
   "outputs": [],
   "source": [
    "#test function"
   ]
  },
  {
   "cell_type": "markdown",
   "metadata": {},
   "source": [
    "The default values of the `start_prob` and `end_prob` arguments in the function\n",
    "`prob_range_data_arg_test` are now `None`. This is a build-it constant in Python\n",
    "that indicates the absence of a value - essentially, that the variable exists in\n",
    "the namespace of the function (the directory of variable names) but that it\n",
    "doesn't correspond to any existing object."
   ]
  },
  {
   "cell_type": "markdown",
   "metadata": {},
   "source": [
    "The body of the test function now has two conditional 'loops' (if statement) that\n",
    "check the values of `start_prob` and `end_prob`. If statements execute the body of\n",
    "the 'loop' when some condition is met. They commonly look something like this:\n",
    "\n",
    "```python\n",
    "    a = 5\n",
    "\n",
    "    if a<0: # meets first condition?\n",
    "\n",
    "        # if a IS less than zero\n",
    "        print('a is a negative number')\n",
    "\n",
    "    elif a>0: # did not meet first condition. meets second condition?\n",
    "\n",
    "        # if a ISN'T less than zero and IS more than zero\n",
    "        print('a is a positive number')\n",
    "\n",
    "    else: # met neither condition\n",
    "\n",
    "        # if a ISN'T less than zero and ISN'T more than zero\n",
    "        print('a must be zero!')\n",
    "\n",
    "    a is a positive number\n",
    "```"
   ]
  },
  {
   "cell_type": "code",
   "execution_count": null,
   "metadata": {
    "collapsed": true
   },
   "outputs": [],
   "source": []
  },
  {
   "cell_type": "markdown",
   "metadata": {},
   "source": [
    "Change the value of `a` to see how this function works. The statement `elif`\n",
    "means \"else if\", and all of the conditional statements must end in a colon."
   ]
  },
  {
   "cell_type": "code",
   "execution_count": null,
   "metadata": {
    "collapsed": true
   },
   "outputs": [],
   "source": []
  },
  {
   "cell_type": "code",
   "execution_count": null,
   "metadata": {
    "collapsed": true
   },
   "outputs": [],
   "source": []
  },
  {
   "cell_type": "markdown",
   "metadata": {},
   "source": [
    "Some more useful info to get you started and keep you going with notebooks and pandas:\n",
    "\n",
    "**Notebook tips and tricks**\n",
    "https://www.dataquest.io/blog/jupyter-notebook-tips-tricks-shortcuts/\n",
    "\n",
    "**Pandas cheat sheet**\n",
    "https://www.analyticsvidhya.com/blog/2015/07/11-steps-perform-data-analysis-pandas-python/\n",
    "\n",
    "\n",
    "**Join the ADACS facebook group to stay up-to-date with upcoming training!**"
   ]
  },
  {
   "cell_type": "code",
   "execution_count": null,
   "metadata": {
    "collapsed": true
   },
   "outputs": [],
   "source": []
  }
 ],
 "metadata": {
  "celltoolbar": "Raw Cell Format",
  "kernelspec": {
   "display_name": "Python 2",
   "language": "python",
   "name": "python2"
  },
  "language_info": {
   "codemirror_mode": {
    "name": "ipython",
    "version": 2
   },
   "file_extension": ".py",
   "mimetype": "text/x-python",
   "name": "python",
   "nbconvert_exporter": "python",
   "pygments_lexer": "ipython2",
   "version": "2.7.11"
  }
 },
 "nbformat": 4,
 "nbformat_minor": 0
}
